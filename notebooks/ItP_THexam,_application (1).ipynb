{
  "nbformat": 4,
  "nbformat_minor": 0,
  "metadata": {
    "colab": {
      "provenance": [],
      "toc_visible": true
    },
    "kernelspec": {
      "name": "python3",
      "display_name": "Python 3"
    },
    "language_info": {
      "name": "python"
    },
    "widgets": {
      "application/vnd.jupyter.widget-state+json": {
        "acbb2629866641378b73733ad51dd0a9": {
          "model_module": "@jupyter-widgets/controls",
          "model_name": "HBoxModel",
          "model_module_version": "1.5.0",
          "state": {
            "_dom_classes": [],
            "_model_module": "@jupyter-widgets/controls",
            "_model_module_version": "1.5.0",
            "_model_name": "HBoxModel",
            "_view_count": null,
            "_view_module": "@jupyter-widgets/controls",
            "_view_module_version": "1.5.0",
            "_view_name": "HBoxView",
            "box_style": "",
            "children": [
              "IPY_MODEL_8cfbf30aa08e4488af764ec7de1a4a20",
              "IPY_MODEL_94398f98aa334e8b95c53035689a3c79"
            ],
            "layout": "IPY_MODEL_b719b606b2d74380ba671eafd707939e"
          }
        },
        "8cfbf30aa08e4488af764ec7de1a4a20": {
          "model_module": "@jupyter-widgets/output",
          "model_name": "OutputModel",
          "model_module_version": "1.0.0",
          "state": {
            "_dom_classes": [],
            "_model_module": "@jupyter-widgets/output",
            "_model_module_version": "1.0.0",
            "_model_name": "OutputModel",
            "_view_count": null,
            "_view_module": "@jupyter-widgets/output",
            "_view_module_version": "1.0.0",
            "_view_name": "OutputView",
            "layout": "IPY_MODEL_f191b67728034ec1a6e9bddecce4a0c7",
            "msg_id": "",
            "outputs": [
              {
                "output_type": "display_data",
                "data": {
                  "text/html": "\n<div id=\"altair-viz-6437e1f4fea84e46a9d6a0f71608a277\"></div>\n<script type=\"text/javascript\">\n  var VEGA_DEBUG = (typeof VEGA_DEBUG == \"undefined\") ? {} : VEGA_DEBUG;\n  (function(spec, embedOpt){\n    let outputDiv = document.currentScript.previousElementSibling;\n    if (outputDiv.id !== \"altair-viz-6437e1f4fea84e46a9d6a0f71608a277\") {\n      outputDiv = document.getElementById(\"altair-viz-6437e1f4fea84e46a9d6a0f71608a277\");\n    }\n    const paths = {\n      \"vega\": \"https://cdn.jsdelivr.net/npm//vega@5?noext\",\n      \"vega-lib\": \"https://cdn.jsdelivr.net/npm//vega-lib?noext\",\n      \"vega-lite\": \"https://cdn.jsdelivr.net/npm//vega-lite@4.17.0?noext\",\n      \"vega-embed\": \"https://cdn.jsdelivr.net/npm//vega-embed@6?noext\",\n    };\n\n    function maybeLoadScript(lib, version) {\n      var key = `${lib.replace(\"-\", \"\")}_version`;\n      return (VEGA_DEBUG[key] == version) ?\n        Promise.resolve(paths[lib]) :\n        new Promise(function(resolve, reject) {\n          var s = document.createElement('script');\n          document.getElementsByTagName(\"head\")[0].appendChild(s);\n          s.async = true;\n          s.onload = () => {\n            VEGA_DEBUG[key] = version;\n            return resolve(paths[lib]);\n          };\n          s.onerror = () => reject(`Error loading script: ${paths[lib]}`);\n          s.src = paths[lib];\n        });\n    }\n\n    function showError(err) {\n      outputDiv.innerHTML = `<div class=\"error\" style=\"color:red;\">${err}</div>`;\n      throw err;\n    }\n\n    function displayChart(vegaEmbed) {\n      vegaEmbed(outputDiv, spec, embedOpt)\n        .catch(err => showError(`Javascript Error: ${err.message}<br>This usually means there's a typo in your chart specification. See the javascript console for the full traceback.`));\n    }\n\n    if(typeof define === \"function\" && define.amd) {\n      requirejs.config({paths});\n      require([\"vega-embed\"], displayChart, err => showError(`Error loading script: ${err.message}`));\n    } else {\n      maybeLoadScript(\"vega\", \"5\")\n        .then(() => maybeLoadScript(\"vega-lite\", \"4.17.0\"))\n        .then(() => maybeLoadScript(\"vega-embed\", \"6\"))\n        .catch(showError)\n        .then(() => displayChart(vegaEmbed));\n    }\n  })({\"config\": {\"view\": {\"continuousWidth\": 400, \"continuousHeight\": 300}}, \"data\": {\"name\": \"data-d21f21ec0af67605a3a8671e394ba2c5\"}, \"mark\": \"line\", \"encoding\": {\"x\": {\"field\": \"Year\", \"title\": \"Year\", \"type\": \"nominal\"}, \"y\": {\"field\": \"Ratio\", \"title\": \"Ratio Alcohol consumption - Schooling\", \"type\": \"quantitative\"}}, \"selection\": {\"selector005\": {\"type\": \"interval\", \"bind\": \"scales\", \"encodings\": [\"x\", \"y\"]}}, \"$schema\": \"https://vega.github.io/schema/vega-lite/v4.17.0.json\", \"datasets\": {\"data-d21f21ec0af67605a3a8671e394ba2c5\": [{\"Country\": \"Italy\", \"Year\": 2014, \"Status\": \"Developed\", \"Alcohol\": 7.56, \"Schooling\": 16.3, \"Ratio\": 0.463803680981595}, {\"Country\": \"Italy\", \"Year\": 2013, \"Status\": \"Developed\", \"Alcohol\": 7.35, \"Schooling\": 16.5, \"Ratio\": 0.44545454545454544}, {\"Country\": \"Italy\", \"Year\": 2012, \"Status\": \"Developed\", \"Alcohol\": 7.49, \"Schooling\": 16.6, \"Ratio\": 0.4512048192771084}, {\"Country\": \"Italy\", \"Year\": 2011, \"Status\": \"Developed\", \"Alcohol\": 6.98, \"Schooling\": 16.4, \"Ratio\": 0.425609756097561}, {\"Country\": \"Italy\", \"Year\": 2010, \"Status\": \"Developed\", \"Alcohol\": 6.95, \"Schooling\": 16.4, \"Ratio\": 0.4237804878048781}, {\"Country\": \"Italy\", \"Year\": 2009, \"Status\": \"Developed\", \"Alcohol\": 7.25, \"Schooling\": 16.3, \"Ratio\": 0.4447852760736196}, {\"Country\": \"Italy\", \"Year\": 2008, \"Status\": \"Developed\", \"Alcohol\": 7.96, \"Schooling\": 16.3, \"Ratio\": 0.48834355828220855}, {\"Country\": \"Italy\", \"Year\": 2007, \"Status\": \"Developed\", \"Alcohol\": 8.37, \"Schooling\": 16.1, \"Ratio\": 0.5198757763975155}, {\"Country\": \"Italy\", \"Year\": 2006, \"Status\": \"Developed\", \"Alcohol\": 8.44, \"Schooling\": 16.0, \"Ratio\": 0.5275}, {\"Country\": \"Italy\", \"Year\": 2005, \"Status\": \"Developed\", \"Alcohol\": 8.65, \"Schooling\": 15.8, \"Ratio\": 0.5474683544303798}, {\"Country\": \"Italy\", \"Year\": 2004, \"Status\": \"Developed\", \"Alcohol\": 8.98, \"Schooling\": 15.6, \"Ratio\": 0.5756410256410257}, {\"Country\": \"Italy\", \"Year\": 2003, \"Status\": \"Developed\", \"Alcohol\": 9.3, \"Schooling\": 15.4, \"Ratio\": 0.6038961038961039}, {\"Country\": \"Italy\", \"Year\": 2002, \"Status\": \"Developed\", \"Alcohol\": 9.25, \"Schooling\": 15.2, \"Ratio\": 0.6085526315789473}, {\"Country\": \"Italy\", \"Year\": 2001, \"Status\": \"Developed\", \"Alcohol\": 9.69, \"Schooling\": 14.9, \"Ratio\": 0.6503355704697986}, {\"Country\": \"Italy\", \"Year\": 2000, \"Status\": \"Developed\", \"Alcohol\": 9.78, \"Schooling\": 14.8, \"Ratio\": 0.6608108108108107}]}}, {\"mode\": \"vega-lite\"});\n</script>",
                  "text/plain": "alt.Chart(...)"
                },
                "metadata": {}
              }
            ]
          }
        },
        "94398f98aa334e8b95c53035689a3c79": {
          "model_module": "@jupyter-widgets/controls",
          "model_name": "DropdownModel",
          "model_module_version": "1.5.0",
          "state": {
            "_dom_classes": [],
            "_model_module": "@jupyter-widgets/controls",
            "_model_module_version": "1.5.0",
            "_model_name": "DropdownModel",
            "_options_labels": [
              "Afghanistan",
              "Albania",
              "Algeria",
              "Angola",
              "Antigua and Barbuda",
              "Argentina",
              "Armenia",
              "Australia",
              "Austria",
              "Azerbaijan",
              "Bahamas",
              "Bahrain",
              "Bangladesh",
              "Barbados",
              "Belarus",
              "Belgium",
              "Belize",
              "Benin",
              "Bhutan",
              "Bolivia (Plurinational State of)",
              "Bosnia and Herzegovina",
              "Botswana",
              "Brazil",
              "Brunei Darussalam",
              "Bulgaria",
              "Burkina Faso",
              "Burundi",
              "Cabo Verde",
              "Cambodia",
              "Cameroon",
              "Canada",
              "Central African Republic",
              "Chad",
              "Chile",
              "China",
              "Colombia",
              "Comoros",
              "Congo",
              "Costa Rica",
              "Croatia",
              "Cuba",
              "Cyprus",
              "Denmark",
              "Djibouti",
              "Dominican Republic",
              "Ecuador",
              "Egypt",
              "El Salvador",
              "Equatorial Guinea",
              "Eritrea",
              "Estonia",
              "Ethiopia",
              "Fiji",
              "Finland",
              "France",
              "Gabon",
              "Gambia",
              "Georgia",
              "Germany",
              "Ghana",
              "Greece",
              "Grenada",
              "Guatemala",
              "Guinea",
              "Guinea-Bissau",
              "Guyana",
              "Haiti",
              "Honduras",
              "Hungary",
              "Iceland",
              "India",
              "Indonesia",
              "Iran (Islamic Republic of)",
              "Iraq",
              "Ireland",
              "Israel",
              "Italy",
              "Jamaica",
              "Japan",
              "Jordan",
              "Kazakhstan",
              "Kenya",
              "Kiribati",
              "Kuwait",
              "Kyrgyzstan",
              "Lao People's Democratic Republic",
              "Latvia",
              "Lebanon",
              "Lesotho",
              "Liberia",
              "Libya",
              "Lithuania",
              "Luxembourg",
              "Madagascar",
              "Malawi",
              "Malaysia",
              "Maldives",
              "Mali",
              "Malta",
              "Mauritania",
              "Mauritius",
              "Mexico",
              "Micronesia (Federated States of)",
              "Mongolia",
              "Montenegro",
              "Morocco",
              "Mozambique",
              "Myanmar",
              "Namibia",
              "Nepal",
              "Netherlands",
              "New Zealand",
              "Nicaragua",
              "Niger",
              "Nigeria",
              "Norway",
              "Oman",
              "Pakistan",
              "Panama",
              "Papua New Guinea",
              "Paraguay",
              "Peru",
              "Philippines",
              "Poland",
              "Portugal",
              "Qatar",
              "Romania",
              "Russian Federation",
              "Rwanda",
              "Saint Lucia",
              "Saint Vincent and the Grenadines",
              "Samoa",
              "Sao Tome and Principe",
              "Saudi Arabia",
              "Senegal",
              "Serbia",
              "Seychelles",
              "Sierra Leone",
              "Singapore",
              "Slovakia",
              "Slovenia",
              "Solomon Islands",
              "South Africa",
              "Spain",
              "Sri Lanka",
              "Sudan",
              "Suriname",
              "Swaziland",
              "Sweden",
              "Switzerland",
              "Syrian Arab Republic",
              "Tajikistan",
              "Thailand",
              "The former Yugoslav republic of Macedonia",
              "Timor-Leste",
              "Togo",
              "Tonga",
              "Trinidad and Tobago",
              "Tunisia",
              "Turkey",
              "Turkmenistan",
              "Uganda",
              "Ukraine",
              "United Arab Emirates",
              "Uruguay",
              "Uzbekistan",
              "Vanuatu",
              "Venezuela (Bolivarian Republic of)",
              "Viet Nam",
              "Yemen",
              "Zambia",
              "Zimbabwe"
            ],
            "_view_count": null,
            "_view_module": "@jupyter-widgets/controls",
            "_view_module_version": "1.5.0",
            "_view_name": "DropdownView",
            "description": "",
            "description_tooltip": null,
            "disabled": false,
            "index": 76,
            "layout": "IPY_MODEL_e67439a724624f27834c4d4bc0ccdb8c",
            "style": "IPY_MODEL_88e182d3db56408e84c75700180d2b4b"
          }
        },
        "b719b606b2d74380ba671eafd707939e": {
          "model_module": "@jupyter-widgets/base",
          "model_name": "LayoutModel",
          "model_module_version": "1.2.0",
          "state": {
            "_model_module": "@jupyter-widgets/base",
            "_model_module_version": "1.2.0",
            "_model_name": "LayoutModel",
            "_view_count": null,
            "_view_module": "@jupyter-widgets/base",
            "_view_module_version": "1.2.0",
            "_view_name": "LayoutView",
            "align_content": null,
            "align_items": null,
            "align_self": null,
            "border": null,
            "bottom": null,
            "display": null,
            "flex": null,
            "flex_flow": null,
            "grid_area": null,
            "grid_auto_columns": null,
            "grid_auto_flow": null,
            "grid_auto_rows": null,
            "grid_column": null,
            "grid_gap": null,
            "grid_row": null,
            "grid_template_areas": null,
            "grid_template_columns": null,
            "grid_template_rows": null,
            "height": null,
            "justify_content": null,
            "justify_items": null,
            "left": null,
            "margin": null,
            "max_height": null,
            "max_width": null,
            "min_height": null,
            "min_width": null,
            "object_fit": null,
            "object_position": null,
            "order": null,
            "overflow": null,
            "overflow_x": null,
            "overflow_y": null,
            "padding": null,
            "right": null,
            "top": null,
            "visibility": null,
            "width": null
          }
        },
        "e67439a724624f27834c4d4bc0ccdb8c": {
          "model_module": "@jupyter-widgets/base",
          "model_name": "LayoutModel",
          "model_module_version": "1.2.0",
          "state": {
            "_model_module": "@jupyter-widgets/base",
            "_model_module_version": "1.2.0",
            "_model_name": "LayoutModel",
            "_view_count": null,
            "_view_module": "@jupyter-widgets/base",
            "_view_module_version": "1.2.0",
            "_view_name": "LayoutView",
            "align_content": null,
            "align_items": null,
            "align_self": null,
            "border": null,
            "bottom": null,
            "display": null,
            "flex": null,
            "flex_flow": null,
            "grid_area": null,
            "grid_auto_columns": null,
            "grid_auto_flow": null,
            "grid_auto_rows": null,
            "grid_column": null,
            "grid_gap": null,
            "grid_row": null,
            "grid_template_areas": null,
            "grid_template_columns": null,
            "grid_template_rows": null,
            "height": null,
            "justify_content": null,
            "justify_items": null,
            "left": null,
            "margin": null,
            "max_height": null,
            "max_width": null,
            "min_height": null,
            "min_width": null,
            "object_fit": null,
            "object_position": null,
            "order": null,
            "overflow": null,
            "overflow_x": null,
            "overflow_y": null,
            "padding": null,
            "right": null,
            "top": null,
            "visibility": null,
            "width": null
          }
        },
        "88e182d3db56408e84c75700180d2b4b": {
          "model_module": "@jupyter-widgets/controls",
          "model_name": "DescriptionStyleModel",
          "model_module_version": "1.5.0",
          "state": {
            "_model_module": "@jupyter-widgets/controls",
            "_model_module_version": "1.5.0",
            "_model_name": "DescriptionStyleModel",
            "_view_count": null,
            "_view_module": "@jupyter-widgets/base",
            "_view_module_version": "1.2.0",
            "_view_name": "StyleView",
            "description_width": ""
          }
        },
        "f191b67728034ec1a6e9bddecce4a0c7": {
          "model_module": "@jupyter-widgets/base",
          "model_name": "LayoutModel",
          "model_module_version": "1.2.0",
          "state": {
            "_model_module": "@jupyter-widgets/base",
            "_model_module_version": "1.2.0",
            "_model_name": "LayoutModel",
            "_view_count": null,
            "_view_module": "@jupyter-widgets/base",
            "_view_module_version": "1.2.0",
            "_view_name": "LayoutView",
            "align_content": null,
            "align_items": null,
            "align_self": null,
            "border": null,
            "bottom": null,
            "display": null,
            "flex": null,
            "flex_flow": null,
            "grid_area": null,
            "grid_auto_columns": null,
            "grid_auto_flow": null,
            "grid_auto_rows": null,
            "grid_column": null,
            "grid_gap": null,
            "grid_row": null,
            "grid_template_areas": null,
            "grid_template_columns": null,
            "grid_template_rows": null,
            "height": null,
            "justify_content": null,
            "justify_items": null,
            "left": null,
            "margin": null,
            "max_height": null,
            "max_width": null,
            "min_height": null,
            "min_width": null,
            "object_fit": null,
            "object_position": null,
            "order": null,
            "overflow": null,
            "overflow_x": null,
            "overflow_y": null,
            "padding": null,
            "right": null,
            "top": null,
            "visibility": null,
            "width": null
          }
        }
      }
    }
  },
  "cells": [
    {
      "cell_type": "markdown",
      "source": [
        "Nalin van Huenen, i6311716"
      ],
      "metadata": {
        "id": "FGbVny5AnyvN"
      }
    },
    {
      "cell_type": "markdown",
      "source": [
        "# **Introduction**\n",
        "\n",
        "The aim of this report is to analyse the correlation between years of schooling and alcohol consumption, with an extra focus on the difference between developed and developing countries.\n",
        "To do so, the averages per country will first be analysed. Secondly, the changes over the years will be analysed per country to determine whether the averages are truly indicative of the correlation.\n",
        "\n",
        "Before analysing any data, my hypothesis is that there is a negative correlation between years of schooling and alcohol consumption, i.e. that, as the amount of years spent in school goes up, alcohol consumption goes down."
      ],
      "metadata": {
        "id": "eNWBC56jTiMT"
      }
    },
    {
      "cell_type": "code",
      "source": [
        "import pandas as pd\n",
        "import altair as alt\n",
        "import ipywidgets as widgets"
      ],
      "metadata": {
        "id": "jy_SbhSxRqKx"
      },
      "execution_count": 1,
      "outputs": []
    },
    {
      "cell_type": "markdown",
      "source": [
        "## Data Preparation\n",
        "\n",
        "- Load data\n",
        "- Select relevant rows and columns"
      ],
      "metadata": {
        "id": "tAWwFmWwRXJ9"
      }
    },
    {
      "cell_type": "code",
      "source": [
        "healthfactors = pd.read_csv('https://raw.githubusercontent.com/NHameleers/dtz2025-datasets/master/CountryHealthFactors.csv')"
      ],
      "metadata": {
        "id": "F6QGiMw3Ns7W"
      },
      "execution_count": 2,
      "outputs": []
    },
    {
      "cell_type": "markdown",
      "source": [
        "The relevant columns in this dataset are;\n",
        "- Country\n",
        "- Year - part of the research question focuses on changes over the years\n",
        "- Status - the main research question focuses on differences between developing and developed countries, i.e. the status\n",
        "- Alcohol - alcohol consumption per capita in litres; main focus\n",
        "- Schooling - years of schooling; main focus\n",
        "\n",
        "Furthermore, the data will be divided into two categories based on status; developing (deving) and developed (deved)"
      ],
      "metadata": {
        "id": "yvvP5JLeYkU3"
      }
    },
    {
      "cell_type": "code",
      "source": [
        "hfdeving = healthfactors.loc[healthfactors.Status == 'Developing', ['Country', 'Year', 'Status', 'Alcohol', 'Schooling']]"
      ],
      "metadata": {
        "id": "9aJHSSpeQXm6"
      },
      "execution_count": 3,
      "outputs": []
    },
    {
      "cell_type": "code",
      "source": [
        "hfdeved = healthfactors.loc[healthfactors.Status == 'Developed', ['Country', 'Year', 'Status', 'Alcohol', 'Schooling']]"
      ],
      "metadata": {
        "id": "jscRVuD2Q_ik"
      },
      "execution_count": 4,
      "outputs": []
    },
    {
      "cell_type": "markdown",
      "source": [
        "# **Data Exploration**"
      ],
      "metadata": {
        "id": "f5JLgjUuRiVb"
      }
    },
    {
      "cell_type": "code",
      "source": [
        "hfdeving = hfdeving.dropna(thresh = 1, subset = ['Alcohol'])\n",
        "\n",
        "hfdeving = hfdeving.dropna(thresh = 1, subset = ['Schooling'])"
      ],
      "metadata": {
        "id": "Mes1CDAESMih"
      },
      "execution_count": 5,
      "outputs": []
    },
    {
      "cell_type": "code",
      "source": [
        "hfdeving['Country'].value_counts().describe()"
      ],
      "metadata": {
        "colab": {
          "base_uri": "https://localhost:8080/"
        },
        "id": "2ai46JXATUQC",
        "outputId": "5d709b54-80a9-45ee-b933-c212a0492ea5"
      },
      "execution_count": 7,
      "outputs": [
        {
          "output_type": "execute_result",
          "data": {
            "text/plain": [
              "count    149.000000\n",
              "mean      14.442953\n",
              "std        2.766553\n",
              "min        1.000000\n",
              "25%       15.000000\n",
              "50%       15.000000\n",
              "75%       15.000000\n",
              "max       16.000000\n",
              "Name: Country, dtype: float64"
            ]
          },
          "metadata": {},
          "execution_count": 7
        }
      ]
    },
    {
      "cell_type": "markdown",
      "source": [
        "Not all countries have equal amounts of data; some countries only have 1 row, or year, of data. To ensure everything matches up, we want to remove all countries that have an amount of rows less than the mean (< 14). We check this by looking at the minimum value before and after removing these countries."
      ],
      "metadata": {
        "id": "myFVb6kKa0i2"
      }
    },
    {
      "cell_type": "code",
      "source": [
        "hfdeving = hfdeving[hfdeving.groupby('Country').Country.transform('count')>13]"
      ],
      "metadata": {
        "id": "9nzYkd09Ueow"
      },
      "execution_count": 8,
      "outputs": []
    },
    {
      "cell_type": "code",
      "source": [
        "hfdeved = hfdeved.dropna(thresh = 1, subset = ['Alcohol'])\n",
        "\n",
        "hfdeved = hfdeved.dropna(thresh = 1, subset = ['Schooling'])"
      ],
      "metadata": {
        "id": "Tz5U80vPV8jJ"
      },
      "execution_count": 9,
      "outputs": []
    },
    {
      "cell_type": "markdown",
      "source": [
        "# Describe + Visualise"
      ],
      "metadata": {
        "id": "arR5QfySW63-"
      }
    },
    {
      "cell_type": "markdown",
      "source": [
        "## SQ 1: Averages"
      ],
      "metadata": {
        "id": "3tGOPQukjwS9"
      }
    },
    {
      "cell_type": "code",
      "source": [
        "devingmeans = hfdeving.groupby('Country').mean()\n",
        "\n",
        "devingmeans"
      ],
      "metadata": {
        "colab": {
          "base_uri": "https://localhost:8080/",
          "height": 455
        },
        "id": "pQ-af1XEd0sv",
        "outputId": "07d4cf20-300c-4319-cd63-cc2e63c3efeb"
      },
      "execution_count": 10,
      "outputs": [
        {
          "output_type": "execute_result",
          "data": {
            "text/plain": [
              "                                      Year   Alcohol  Schooling\n",
              "Country                                                        \n",
              "Afghanistan                         2007.5  0.014375   8.212500\n",
              "Albania                             2007.5  4.848750  12.137500\n",
              "Algeria                             2007.0  0.406667  12.600000\n",
              "Angola                              2007.0  5.740667   7.820000\n",
              "Antigua and Barbuda                 2007.0  7.949333   8.506667\n",
              "...                                    ...       ...        ...\n",
              "Venezuela (Bolivarian Republic of)  2007.0  7.420000  12.686667\n",
              "Viet Nam                            2007.0  3.087333  11.440000\n",
              "Yemen                               2007.0  0.047333   8.473333\n",
              "Zambia                              2007.0  2.239333  11.126667\n",
              "Zimbabwe                            2007.0  4.482000   9.793333\n",
              "\n",
              "[143 rows x 3 columns]"
            ],
            "text/html": [
              "\n",
              "  <div id=\"df-fa6de2e1-394e-49d4-a5d6-4291de40f25f\">\n",
              "    <div class=\"colab-df-container\">\n",
              "      <div>\n",
              "<style scoped>\n",
              "    .dataframe tbody tr th:only-of-type {\n",
              "        vertical-align: middle;\n",
              "    }\n",
              "\n",
              "    .dataframe tbody tr th {\n",
              "        vertical-align: top;\n",
              "    }\n",
              "\n",
              "    .dataframe thead th {\n",
              "        text-align: right;\n",
              "    }\n",
              "</style>\n",
              "<table border=\"1\" class=\"dataframe\">\n",
              "  <thead>\n",
              "    <tr style=\"text-align: right;\">\n",
              "      <th></th>\n",
              "      <th>Year</th>\n",
              "      <th>Alcohol</th>\n",
              "      <th>Schooling</th>\n",
              "    </tr>\n",
              "    <tr>\n",
              "      <th>Country</th>\n",
              "      <th></th>\n",
              "      <th></th>\n",
              "      <th></th>\n",
              "    </tr>\n",
              "  </thead>\n",
              "  <tbody>\n",
              "    <tr>\n",
              "      <th>Afghanistan</th>\n",
              "      <td>2007.5</td>\n",
              "      <td>0.014375</td>\n",
              "      <td>8.212500</td>\n",
              "    </tr>\n",
              "    <tr>\n",
              "      <th>Albania</th>\n",
              "      <td>2007.5</td>\n",
              "      <td>4.848750</td>\n",
              "      <td>12.137500</td>\n",
              "    </tr>\n",
              "    <tr>\n",
              "      <th>Algeria</th>\n",
              "      <td>2007.0</td>\n",
              "      <td>0.406667</td>\n",
              "      <td>12.600000</td>\n",
              "    </tr>\n",
              "    <tr>\n",
              "      <th>Angola</th>\n",
              "      <td>2007.0</td>\n",
              "      <td>5.740667</td>\n",
              "      <td>7.820000</td>\n",
              "    </tr>\n",
              "    <tr>\n",
              "      <th>Antigua and Barbuda</th>\n",
              "      <td>2007.0</td>\n",
              "      <td>7.949333</td>\n",
              "      <td>8.506667</td>\n",
              "    </tr>\n",
              "    <tr>\n",
              "      <th>...</th>\n",
              "      <td>...</td>\n",
              "      <td>...</td>\n",
              "      <td>...</td>\n",
              "    </tr>\n",
              "    <tr>\n",
              "      <th>Venezuela (Bolivarian Republic of)</th>\n",
              "      <td>2007.0</td>\n",
              "      <td>7.420000</td>\n",
              "      <td>12.686667</td>\n",
              "    </tr>\n",
              "    <tr>\n",
              "      <th>Viet Nam</th>\n",
              "      <td>2007.0</td>\n",
              "      <td>3.087333</td>\n",
              "      <td>11.440000</td>\n",
              "    </tr>\n",
              "    <tr>\n",
              "      <th>Yemen</th>\n",
              "      <td>2007.0</td>\n",
              "      <td>0.047333</td>\n",
              "      <td>8.473333</td>\n",
              "    </tr>\n",
              "    <tr>\n",
              "      <th>Zambia</th>\n",
              "      <td>2007.0</td>\n",
              "      <td>2.239333</td>\n",
              "      <td>11.126667</td>\n",
              "    </tr>\n",
              "    <tr>\n",
              "      <th>Zimbabwe</th>\n",
              "      <td>2007.0</td>\n",
              "      <td>4.482000</td>\n",
              "      <td>9.793333</td>\n",
              "    </tr>\n",
              "  </tbody>\n",
              "</table>\n",
              "<p>143 rows × 3 columns</p>\n",
              "</div>\n",
              "      <button class=\"colab-df-convert\" onclick=\"convertToInteractive('df-fa6de2e1-394e-49d4-a5d6-4291de40f25f')\"\n",
              "              title=\"Convert this dataframe to an interactive table.\"\n",
              "              style=\"display:none;\">\n",
              "        \n",
              "  <svg xmlns=\"http://www.w3.org/2000/svg\" height=\"24px\"viewBox=\"0 0 24 24\"\n",
              "       width=\"24px\">\n",
              "    <path d=\"M0 0h24v24H0V0z\" fill=\"none\"/>\n",
              "    <path d=\"M18.56 5.44l.94 2.06.94-2.06 2.06-.94-2.06-.94-.94-2.06-.94 2.06-2.06.94zm-11 1L8.5 8.5l.94-2.06 2.06-.94-2.06-.94L8.5 2.5l-.94 2.06-2.06.94zm10 10l.94 2.06.94-2.06 2.06-.94-2.06-.94-.94-2.06-.94 2.06-2.06.94z\"/><path d=\"M17.41 7.96l-1.37-1.37c-.4-.4-.92-.59-1.43-.59-.52 0-1.04.2-1.43.59L10.3 9.45l-7.72 7.72c-.78.78-.78 2.05 0 2.83L4 21.41c.39.39.9.59 1.41.59.51 0 1.02-.2 1.41-.59l7.78-7.78 2.81-2.81c.8-.78.8-2.07 0-2.86zM5.41 20L4 18.59l7.72-7.72 1.47 1.35L5.41 20z\"/>\n",
              "  </svg>\n",
              "      </button>\n",
              "      \n",
              "  <style>\n",
              "    .colab-df-container {\n",
              "      display:flex;\n",
              "      flex-wrap:wrap;\n",
              "      gap: 12px;\n",
              "    }\n",
              "\n",
              "    .colab-df-convert {\n",
              "      background-color: #E8F0FE;\n",
              "      border: none;\n",
              "      border-radius: 50%;\n",
              "      cursor: pointer;\n",
              "      display: none;\n",
              "      fill: #1967D2;\n",
              "      height: 32px;\n",
              "      padding: 0 0 0 0;\n",
              "      width: 32px;\n",
              "    }\n",
              "\n",
              "    .colab-df-convert:hover {\n",
              "      background-color: #E2EBFA;\n",
              "      box-shadow: 0px 1px 2px rgba(60, 64, 67, 0.3), 0px 1px 3px 1px rgba(60, 64, 67, 0.15);\n",
              "      fill: #174EA6;\n",
              "    }\n",
              "\n",
              "    [theme=dark] .colab-df-convert {\n",
              "      background-color: #3B4455;\n",
              "      fill: #D2E3FC;\n",
              "    }\n",
              "\n",
              "    [theme=dark] .colab-df-convert:hover {\n",
              "      background-color: #434B5C;\n",
              "      box-shadow: 0px 1px 3px 1px rgba(0, 0, 0, 0.15);\n",
              "      filter: drop-shadow(0px 1px 2px rgba(0, 0, 0, 0.3));\n",
              "      fill: #FFFFFF;\n",
              "    }\n",
              "  </style>\n",
              "\n",
              "      <script>\n",
              "        const buttonEl =\n",
              "          document.querySelector('#df-fa6de2e1-394e-49d4-a5d6-4291de40f25f button.colab-df-convert');\n",
              "        buttonEl.style.display =\n",
              "          google.colab.kernel.accessAllowed ? 'block' : 'none';\n",
              "\n",
              "        async function convertToInteractive(key) {\n",
              "          const element = document.querySelector('#df-fa6de2e1-394e-49d4-a5d6-4291de40f25f');\n",
              "          const dataTable =\n",
              "            await google.colab.kernel.invokeFunction('convertToInteractive',\n",
              "                                                     [key], {});\n",
              "          if (!dataTable) return;\n",
              "\n",
              "          const docLinkHtml = 'Like what you see? Visit the ' +\n",
              "            '<a target=\"_blank\" href=https://colab.research.google.com/notebooks/data_table.ipynb>data table notebook</a>'\n",
              "            + ' to learn more about interactive tables.';\n",
              "          element.innerHTML = '';\n",
              "          dataTable['output_type'] = 'display_data';\n",
              "          await google.colab.output.renderOutput(dataTable, element);\n",
              "          const docLink = document.createElement('div');\n",
              "          docLink.innerHTML = docLinkHtml;\n",
              "          element.appendChild(docLink);\n",
              "        }\n",
              "      </script>\n",
              "    </div>\n",
              "  </div>\n",
              "  "
            ]
          },
          "metadata": {},
          "execution_count": 10
        }
      ]
    },
    {
      "cell_type": "markdown",
      "source": [
        "There are a total of 143 developing countries."
      ],
      "metadata": {
        "id": "zwukSWkacFZg"
      }
    },
    {
      "cell_type": "code",
      "source": [
        "devingmeansc = alt.Chart(devingmeans).mark_point(color = \"orangered\", opacity = 0.2).encode(\n",
        "    x = alt.X('Schooling:Q', title = \"Education, in years\"),\n",
        "    y = alt.Y('Alcohol:Q', title = \"Alcohol consumption per capita, in litres\")\n",
        ").properties(title = \"Years of education - Alcohol consumption in developing countries\")\n",
        "\n",
        "devingc = alt.layer(\n",
        "    devingmeansc,\n",
        "    devingmeansc.transform_regression('Schooling', 'Alcohol').mark_line(color = \"orangered\")).interactive()"
      ],
      "metadata": {
        "id": "1-UxvpjufYWY"
      },
      "execution_count": 11,
      "outputs": []
    },
    {
      "cell_type": "code",
      "source": [
        "devedmeans = hfdeved.groupby('Country').mean()\n",
        "\n",
        "devedmeans"
      ],
      "metadata": {
        "colab": {
          "base_uri": "https://localhost:8080/",
          "height": 990
        },
        "id": "1A5qR8HOeyYA",
        "outputId": "9b2a4ef6-0fbe-43d3-8b01-c68f0dac7e38"
      },
      "execution_count": 12,
      "outputs": [
        {
          "output_type": "execute_result",
          "data": {
            "text/plain": [
              "               Year    Alcohol  Schooling\n",
              "Country                                  \n",
              "Australia    2007.0  10.155333  20.013333\n",
              "Austria      2007.0  12.236000  15.353333\n",
              "Belgium      2007.0  11.042667  16.800000\n",
              "Bulgaria     2007.0  10.865333  13.640000\n",
              "Croatia      2007.0  12.448000  13.793333\n",
              "Cyprus       2007.0  10.260667  13.466667\n",
              "Denmark      2007.0  10.708000  17.060000\n",
              "Germany      2007.0  11.628667  16.566667\n",
              "Hungary      2007.0  11.427333  15.086667\n",
              "Iceland      2007.0   7.466000  18.100000\n",
              "Ireland      2007.0  12.654000  17.593333\n",
              "Italy        2007.0   8.266667  15.906667\n",
              "Japan        2007.0   7.040667  14.953333\n",
              "Latvia       2007.0   8.864000  15.540000\n",
              "Lithuania    2007.0  12.632667  16.073333\n",
              "Luxembourg   2007.0  11.922000  13.620000\n",
              "Malta        2007.0   7.130000  14.286667\n",
              "Netherlands  2007.0   8.846667  16.986667\n",
              "New Zealand  2007.5   9.166250  18.868750\n",
              "Norway       2007.5   6.234375  17.468750\n",
              "Poland       2007.0   9.998667  15.173333\n",
              "Portugal     2007.0  12.211333  15.893333\n",
              "Romania      2007.0   8.968667  13.873333\n",
              "Singapore    2007.5   1.762500  13.981250\n",
              "Slovakia     2007.0  10.473333  14.306667\n",
              "Slovenia     2007.0  10.754667  16.420000\n",
              "Spain        2007.0  10.024000  16.266667\n",
              "Sweden       2007.0   6.926667  15.866667\n",
              "Switzerland  2007.0  10.338000  15.353333"
            ],
            "text/html": [
              "\n",
              "  <div id=\"df-b4163a6c-3b1f-49ac-88c7-5f41219e14ec\">\n",
              "    <div class=\"colab-df-container\">\n",
              "      <div>\n",
              "<style scoped>\n",
              "    .dataframe tbody tr th:only-of-type {\n",
              "        vertical-align: middle;\n",
              "    }\n",
              "\n",
              "    .dataframe tbody tr th {\n",
              "        vertical-align: top;\n",
              "    }\n",
              "\n",
              "    .dataframe thead th {\n",
              "        text-align: right;\n",
              "    }\n",
              "</style>\n",
              "<table border=\"1\" class=\"dataframe\">\n",
              "  <thead>\n",
              "    <tr style=\"text-align: right;\">\n",
              "      <th></th>\n",
              "      <th>Year</th>\n",
              "      <th>Alcohol</th>\n",
              "      <th>Schooling</th>\n",
              "    </tr>\n",
              "    <tr>\n",
              "      <th>Country</th>\n",
              "      <th></th>\n",
              "      <th></th>\n",
              "      <th></th>\n",
              "    </tr>\n",
              "  </thead>\n",
              "  <tbody>\n",
              "    <tr>\n",
              "      <th>Australia</th>\n",
              "      <td>2007.0</td>\n",
              "      <td>10.155333</td>\n",
              "      <td>20.013333</td>\n",
              "    </tr>\n",
              "    <tr>\n",
              "      <th>Austria</th>\n",
              "      <td>2007.0</td>\n",
              "      <td>12.236000</td>\n",
              "      <td>15.353333</td>\n",
              "    </tr>\n",
              "    <tr>\n",
              "      <th>Belgium</th>\n",
              "      <td>2007.0</td>\n",
              "      <td>11.042667</td>\n",
              "      <td>16.800000</td>\n",
              "    </tr>\n",
              "    <tr>\n",
              "      <th>Bulgaria</th>\n",
              "      <td>2007.0</td>\n",
              "      <td>10.865333</td>\n",
              "      <td>13.640000</td>\n",
              "    </tr>\n",
              "    <tr>\n",
              "      <th>Croatia</th>\n",
              "      <td>2007.0</td>\n",
              "      <td>12.448000</td>\n",
              "      <td>13.793333</td>\n",
              "    </tr>\n",
              "    <tr>\n",
              "      <th>Cyprus</th>\n",
              "      <td>2007.0</td>\n",
              "      <td>10.260667</td>\n",
              "      <td>13.466667</td>\n",
              "    </tr>\n",
              "    <tr>\n",
              "      <th>Denmark</th>\n",
              "      <td>2007.0</td>\n",
              "      <td>10.708000</td>\n",
              "      <td>17.060000</td>\n",
              "    </tr>\n",
              "    <tr>\n",
              "      <th>Germany</th>\n",
              "      <td>2007.0</td>\n",
              "      <td>11.628667</td>\n",
              "      <td>16.566667</td>\n",
              "    </tr>\n",
              "    <tr>\n",
              "      <th>Hungary</th>\n",
              "      <td>2007.0</td>\n",
              "      <td>11.427333</td>\n",
              "      <td>15.086667</td>\n",
              "    </tr>\n",
              "    <tr>\n",
              "      <th>Iceland</th>\n",
              "      <td>2007.0</td>\n",
              "      <td>7.466000</td>\n",
              "      <td>18.100000</td>\n",
              "    </tr>\n",
              "    <tr>\n",
              "      <th>Ireland</th>\n",
              "      <td>2007.0</td>\n",
              "      <td>12.654000</td>\n",
              "      <td>17.593333</td>\n",
              "    </tr>\n",
              "    <tr>\n",
              "      <th>Italy</th>\n",
              "      <td>2007.0</td>\n",
              "      <td>8.266667</td>\n",
              "      <td>15.906667</td>\n",
              "    </tr>\n",
              "    <tr>\n",
              "      <th>Japan</th>\n",
              "      <td>2007.0</td>\n",
              "      <td>7.040667</td>\n",
              "      <td>14.953333</td>\n",
              "    </tr>\n",
              "    <tr>\n",
              "      <th>Latvia</th>\n",
              "      <td>2007.0</td>\n",
              "      <td>8.864000</td>\n",
              "      <td>15.540000</td>\n",
              "    </tr>\n",
              "    <tr>\n",
              "      <th>Lithuania</th>\n",
              "      <td>2007.0</td>\n",
              "      <td>12.632667</td>\n",
              "      <td>16.073333</td>\n",
              "    </tr>\n",
              "    <tr>\n",
              "      <th>Luxembourg</th>\n",
              "      <td>2007.0</td>\n",
              "      <td>11.922000</td>\n",
              "      <td>13.620000</td>\n",
              "    </tr>\n",
              "    <tr>\n",
              "      <th>Malta</th>\n",
              "      <td>2007.0</td>\n",
              "      <td>7.130000</td>\n",
              "      <td>14.286667</td>\n",
              "    </tr>\n",
              "    <tr>\n",
              "      <th>Netherlands</th>\n",
              "      <td>2007.0</td>\n",
              "      <td>8.846667</td>\n",
              "      <td>16.986667</td>\n",
              "    </tr>\n",
              "    <tr>\n",
              "      <th>New Zealand</th>\n",
              "      <td>2007.5</td>\n",
              "      <td>9.166250</td>\n",
              "      <td>18.868750</td>\n",
              "    </tr>\n",
              "    <tr>\n",
              "      <th>Norway</th>\n",
              "      <td>2007.5</td>\n",
              "      <td>6.234375</td>\n",
              "      <td>17.468750</td>\n",
              "    </tr>\n",
              "    <tr>\n",
              "      <th>Poland</th>\n",
              "      <td>2007.0</td>\n",
              "      <td>9.998667</td>\n",
              "      <td>15.173333</td>\n",
              "    </tr>\n",
              "    <tr>\n",
              "      <th>Portugal</th>\n",
              "      <td>2007.0</td>\n",
              "      <td>12.211333</td>\n",
              "      <td>15.893333</td>\n",
              "    </tr>\n",
              "    <tr>\n",
              "      <th>Romania</th>\n",
              "      <td>2007.0</td>\n",
              "      <td>8.968667</td>\n",
              "      <td>13.873333</td>\n",
              "    </tr>\n",
              "    <tr>\n",
              "      <th>Singapore</th>\n",
              "      <td>2007.5</td>\n",
              "      <td>1.762500</td>\n",
              "      <td>13.981250</td>\n",
              "    </tr>\n",
              "    <tr>\n",
              "      <th>Slovakia</th>\n",
              "      <td>2007.0</td>\n",
              "      <td>10.473333</td>\n",
              "      <td>14.306667</td>\n",
              "    </tr>\n",
              "    <tr>\n",
              "      <th>Slovenia</th>\n",
              "      <td>2007.0</td>\n",
              "      <td>10.754667</td>\n",
              "      <td>16.420000</td>\n",
              "    </tr>\n",
              "    <tr>\n",
              "      <th>Spain</th>\n",
              "      <td>2007.0</td>\n",
              "      <td>10.024000</td>\n",
              "      <td>16.266667</td>\n",
              "    </tr>\n",
              "    <tr>\n",
              "      <th>Sweden</th>\n",
              "      <td>2007.0</td>\n",
              "      <td>6.926667</td>\n",
              "      <td>15.866667</td>\n",
              "    </tr>\n",
              "    <tr>\n",
              "      <th>Switzerland</th>\n",
              "      <td>2007.0</td>\n",
              "      <td>10.338000</td>\n",
              "      <td>15.353333</td>\n",
              "    </tr>\n",
              "  </tbody>\n",
              "</table>\n",
              "</div>\n",
              "      <button class=\"colab-df-convert\" onclick=\"convertToInteractive('df-b4163a6c-3b1f-49ac-88c7-5f41219e14ec')\"\n",
              "              title=\"Convert this dataframe to an interactive table.\"\n",
              "              style=\"display:none;\">\n",
              "        \n",
              "  <svg xmlns=\"http://www.w3.org/2000/svg\" height=\"24px\"viewBox=\"0 0 24 24\"\n",
              "       width=\"24px\">\n",
              "    <path d=\"M0 0h24v24H0V0z\" fill=\"none\"/>\n",
              "    <path d=\"M18.56 5.44l.94 2.06.94-2.06 2.06-.94-2.06-.94-.94-2.06-.94 2.06-2.06.94zm-11 1L8.5 8.5l.94-2.06 2.06-.94-2.06-.94L8.5 2.5l-.94 2.06-2.06.94zm10 10l.94 2.06.94-2.06 2.06-.94-2.06-.94-.94-2.06-.94 2.06-2.06.94z\"/><path d=\"M17.41 7.96l-1.37-1.37c-.4-.4-.92-.59-1.43-.59-.52 0-1.04.2-1.43.59L10.3 9.45l-7.72 7.72c-.78.78-.78 2.05 0 2.83L4 21.41c.39.39.9.59 1.41.59.51 0 1.02-.2 1.41-.59l7.78-7.78 2.81-2.81c.8-.78.8-2.07 0-2.86zM5.41 20L4 18.59l7.72-7.72 1.47 1.35L5.41 20z\"/>\n",
              "  </svg>\n",
              "      </button>\n",
              "      \n",
              "  <style>\n",
              "    .colab-df-container {\n",
              "      display:flex;\n",
              "      flex-wrap:wrap;\n",
              "      gap: 12px;\n",
              "    }\n",
              "\n",
              "    .colab-df-convert {\n",
              "      background-color: #E8F0FE;\n",
              "      border: none;\n",
              "      border-radius: 50%;\n",
              "      cursor: pointer;\n",
              "      display: none;\n",
              "      fill: #1967D2;\n",
              "      height: 32px;\n",
              "      padding: 0 0 0 0;\n",
              "      width: 32px;\n",
              "    }\n",
              "\n",
              "    .colab-df-convert:hover {\n",
              "      background-color: #E2EBFA;\n",
              "      box-shadow: 0px 1px 2px rgba(60, 64, 67, 0.3), 0px 1px 3px 1px rgba(60, 64, 67, 0.15);\n",
              "      fill: #174EA6;\n",
              "    }\n",
              "\n",
              "    [theme=dark] .colab-df-convert {\n",
              "      background-color: #3B4455;\n",
              "      fill: #D2E3FC;\n",
              "    }\n",
              "\n",
              "    [theme=dark] .colab-df-convert:hover {\n",
              "      background-color: #434B5C;\n",
              "      box-shadow: 0px 1px 3px 1px rgba(0, 0, 0, 0.15);\n",
              "      filter: drop-shadow(0px 1px 2px rgba(0, 0, 0, 0.3));\n",
              "      fill: #FFFFFF;\n",
              "    }\n",
              "  </style>\n",
              "\n",
              "      <script>\n",
              "        const buttonEl =\n",
              "          document.querySelector('#df-b4163a6c-3b1f-49ac-88c7-5f41219e14ec button.colab-df-convert');\n",
              "        buttonEl.style.display =\n",
              "          google.colab.kernel.accessAllowed ? 'block' : 'none';\n",
              "\n",
              "        async function convertToInteractive(key) {\n",
              "          const element = document.querySelector('#df-b4163a6c-3b1f-49ac-88c7-5f41219e14ec');\n",
              "          const dataTable =\n",
              "            await google.colab.kernel.invokeFunction('convertToInteractive',\n",
              "                                                     [key], {});\n",
              "          if (!dataTable) return;\n",
              "\n",
              "          const docLinkHtml = 'Like what you see? Visit the ' +\n",
              "            '<a target=\"_blank\" href=https://colab.research.google.com/notebooks/data_table.ipynb>data table notebook</a>'\n",
              "            + ' to learn more about interactive tables.';\n",
              "          element.innerHTML = '';\n",
              "          dataTable['output_type'] = 'display_data';\n",
              "          await google.colab.output.renderOutput(dataTable, element);\n",
              "          const docLink = document.createElement('div');\n",
              "          docLink.innerHTML = docLinkHtml;\n",
              "          element.appendChild(docLink);\n",
              "        }\n",
              "      </script>\n",
              "    </div>\n",
              "  </div>\n",
              "  "
            ]
          },
          "metadata": {},
          "execution_count": 12
        }
      ]
    },
    {
      "cell_type": "markdown",
      "source": [
        "There are 29 developed countries."
      ],
      "metadata": {
        "id": "g_PSjx68c7vf"
      }
    },
    {
      "cell_type": "code",
      "source": [
        "devedmeansc = alt.Chart(devedmeans).mark_point(opacity = 0.2).encode(\n",
        "    x = alt.X('Schooling:Q', title = \"Education, in years\"),\n",
        "    y = alt.Y('Alcohol:Q', title = \"Alcohol consumption per capita, in litres\")\n",
        ").properties(title = \"Years of education - Alcohol consumption in developed countries\")\n",
        "\n",
        "devedc = alt.layer(\n",
        "    devedmeansc,\n",
        "    devedmeansc.transform_regression('Schooling', 'Alcohol').mark_line()).interactive()"
      ],
      "metadata": {
        "id": "DN1QqcG8hhXa"
      },
      "execution_count": 13,
      "outputs": []
    },
    {
      "cell_type": "markdown",
      "source": [
        "### Comparison"
      ],
      "metadata": {
        "id": "uKZhVMW5fGHs"
      }
    },
    {
      "cell_type": "code",
      "source": [
        "hfdev = pd.concat([hfdeving, hfdeved])"
      ],
      "metadata": {
        "id": "97O2LUx5w0RW"
      },
      "execution_count": 14,
      "outputs": []
    },
    {
      "cell_type": "code",
      "source": [
        "devmeans = hfdev.groupby('Country').mean()"
      ],
      "metadata": {
        "id": "0SFJvtG-PgII"
      },
      "execution_count": 15,
      "outputs": []
    },
    {
      "cell_type": "code",
      "source": [
        "devmeansc = alt.Chart(devmeans).mark_point(opacity = 0.4).encode(\n",
        "    x = alt.X('Schooling:Q', title = \"Education, in years\"),\n",
        "    y = alt.Y('Alcohol:Q', title = \"Alcohol consumption per capita, in litres\")\n",
        ").properties(title = \"Years of education - Alcohol consumption in developed countries\")"
      ],
      "metadata": {
        "id": "NIGXcSczPAZ7"
      },
      "execution_count": 16,
      "outputs": []
    },
    {
      "cell_type": "code",
      "source": [
        "comparisonc = alt.layer(\n",
        "    devingmeansc,\n",
        "    devingmeansc.transform_regression('Schooling', 'Alcohol').mark_line(color = \"orangered\", opacity = 0.4),\n",
        "    devedmeansc,\n",
        "    devedmeansc.transform_regression('Schooling', 'Alcohol').mark_line(opacity = 0.4),\n",
        "    devmeansc.transform_regression('Schooling', 'Alcohol').mark_line(color = \"black\")).interactive().properties(\n",
        "        title = \"Comparison developed - developing countries\"\n",
        "    )\n",
        "\n",
        "comparisonc | devingc | devedc"
      ],
      "metadata": {
        "colab": {
          "base_uri": "https://localhost:8080/",
          "height": 408
        },
        "id": "AmpCFLW3hoeE",
        "outputId": "524e9f6b-802a-4bee-ff93-a883d8643702"
      },
      "execution_count": 17,
      "outputs": [
        {
          "output_type": "execute_result",
          "data": {
            "text/html": [
              "\n",
              "<div id=\"altair-viz-de452c7ba1c7428a8fc1c1a2547e50cd\"></div>\n",
              "<script type=\"text/javascript\">\n",
              "  var VEGA_DEBUG = (typeof VEGA_DEBUG == \"undefined\") ? {} : VEGA_DEBUG;\n",
              "  (function(spec, embedOpt){\n",
              "    let outputDiv = document.currentScript.previousElementSibling;\n",
              "    if (outputDiv.id !== \"altair-viz-de452c7ba1c7428a8fc1c1a2547e50cd\") {\n",
              "      outputDiv = document.getElementById(\"altair-viz-de452c7ba1c7428a8fc1c1a2547e50cd\");\n",
              "    }\n",
              "    const paths = {\n",
              "      \"vega\": \"https://cdn.jsdelivr.net/npm//vega@5?noext\",\n",
              "      \"vega-lib\": \"https://cdn.jsdelivr.net/npm//vega-lib?noext\",\n",
              "      \"vega-lite\": \"https://cdn.jsdelivr.net/npm//vega-lite@4.17.0?noext\",\n",
              "      \"vega-embed\": \"https://cdn.jsdelivr.net/npm//vega-embed@6?noext\",\n",
              "    };\n",
              "\n",
              "    function maybeLoadScript(lib, version) {\n",
              "      var key = `${lib.replace(\"-\", \"\")}_version`;\n",
              "      return (VEGA_DEBUG[key] == version) ?\n",
              "        Promise.resolve(paths[lib]) :\n",
              "        new Promise(function(resolve, reject) {\n",
              "          var s = document.createElement('script');\n",
              "          document.getElementsByTagName(\"head\")[0].appendChild(s);\n",
              "          s.async = true;\n",
              "          s.onload = () => {\n",
              "            VEGA_DEBUG[key] = version;\n",
              "            return resolve(paths[lib]);\n",
              "          };\n",
              "          s.onerror = () => reject(`Error loading script: ${paths[lib]}`);\n",
              "          s.src = paths[lib];\n",
              "        });\n",
              "    }\n",
              "\n",
              "    function showError(err) {\n",
              "      outputDiv.innerHTML = `<div class=\"error\" style=\"color:red;\">${err}</div>`;\n",
              "      throw err;\n",
              "    }\n",
              "\n",
              "    function displayChart(vegaEmbed) {\n",
              "      vegaEmbed(outputDiv, spec, embedOpt)\n",
              "        .catch(err => showError(`Javascript Error: ${err.message}<br>This usually means there's a typo in your chart specification. See the javascript console for the full traceback.`));\n",
              "    }\n",
              "\n",
              "    if(typeof define === \"function\" && define.amd) {\n",
              "      requirejs.config({paths});\n",
              "      require([\"vega-embed\"], displayChart, err => showError(`Error loading script: ${err.message}`));\n",
              "    } else {\n",
              "      maybeLoadScript(\"vega\", \"5\")\n",
              "        .then(() => maybeLoadScript(\"vega-lite\", \"4.17.0\"))\n",
              "        .then(() => maybeLoadScript(\"vega-embed\", \"6\"))\n",
              "        .catch(showError)\n",
              "        .then(() => displayChart(vegaEmbed));\n",
              "    }\n",
              "  })({\"config\": {\"view\": {\"continuousWidth\": 400, \"continuousHeight\": 300}}, \"hconcat\": [{\"layer\": [{\"data\": {\"name\": \"data-7122bf9f3183599d4b1b11c8438ad80b\"}, \"mark\": {\"type\": \"point\", \"color\": \"orangered\", \"opacity\": 0.2}, \"encoding\": {\"x\": {\"field\": \"Schooling\", \"title\": \"Education, in years\", \"type\": \"quantitative\"}, \"y\": {\"field\": \"Alcohol\", \"title\": \"Alcohol consumption per capita, in litres\", \"type\": \"quantitative\"}}, \"selection\": {\"selector003\": {\"type\": \"interval\", \"bind\": \"scales\", \"encodings\": [\"x\", \"y\"]}}, \"title\": \"Years of education - Alcohol consumption in developing countries\"}, {\"data\": {\"name\": \"data-7122bf9f3183599d4b1b11c8438ad80b\"}, \"mark\": {\"type\": \"line\", \"color\": \"orangered\", \"opacity\": 0.4}, \"encoding\": {\"x\": {\"field\": \"Schooling\", \"title\": \"Education, in years\", \"type\": \"quantitative\"}, \"y\": {\"field\": \"Alcohol\", \"title\": \"Alcohol consumption per capita, in litres\", \"type\": \"quantitative\"}}, \"title\": \"Years of education - Alcohol consumption in developing countries\", \"transform\": [{\"on\": \"Schooling\", \"regression\": \"Alcohol\"}]}, {\"data\": {\"name\": \"data-87ccef5c3a86b64ab8c2a76114fbeb82\"}, \"mark\": {\"type\": \"point\", \"opacity\": 0.2}, \"encoding\": {\"x\": {\"field\": \"Schooling\", \"title\": \"Education, in years\", \"type\": \"quantitative\"}, \"y\": {\"field\": \"Alcohol\", \"title\": \"Alcohol consumption per capita, in litres\", \"type\": \"quantitative\"}}, \"title\": \"Years of education - Alcohol consumption in developed countries\"}, {\"data\": {\"name\": \"data-87ccef5c3a86b64ab8c2a76114fbeb82\"}, \"mark\": {\"type\": \"line\", \"opacity\": 0.4}, \"encoding\": {\"x\": {\"field\": \"Schooling\", \"title\": \"Education, in years\", \"type\": \"quantitative\"}, \"y\": {\"field\": \"Alcohol\", \"title\": \"Alcohol consumption per capita, in litres\", \"type\": \"quantitative\"}}, \"title\": \"Years of education - Alcohol consumption in developed countries\", \"transform\": [{\"on\": \"Schooling\", \"regression\": \"Alcohol\"}]}, {\"data\": {\"name\": \"data-8e37a015331e29d39ed7896f99f3d3a1\"}, \"mark\": {\"type\": \"line\", \"color\": \"black\"}, \"encoding\": {\"x\": {\"field\": \"Schooling\", \"title\": \"Education, in years\", \"type\": \"quantitative\"}, \"y\": {\"field\": \"Alcohol\", \"title\": \"Alcohol consumption per capita, in litres\", \"type\": \"quantitative\"}}, \"title\": \"Years of education - Alcohol consumption in developed countries\", \"transform\": [{\"on\": \"Schooling\", \"regression\": \"Alcohol\"}]}], \"title\": \"Comparison developed - developing countries\"}, {\"layer\": [{\"mark\": {\"type\": \"point\", \"color\": \"orangered\", \"opacity\": 0.2}, \"encoding\": {\"x\": {\"field\": \"Schooling\", \"title\": \"Education, in years\", \"type\": \"quantitative\"}, \"y\": {\"field\": \"Alcohol\", \"title\": \"Alcohol consumption per capita, in litres\", \"type\": \"quantitative\"}}, \"selection\": {\"selector001\": {\"type\": \"interval\", \"bind\": \"scales\", \"encodings\": [\"x\", \"y\"]}}, \"title\": \"Years of education - Alcohol consumption in developing countries\"}, {\"mark\": {\"type\": \"line\", \"color\": \"orangered\"}, \"encoding\": {\"x\": {\"field\": \"Schooling\", \"title\": \"Education, in years\", \"type\": \"quantitative\"}, \"y\": {\"field\": \"Alcohol\", \"title\": \"Alcohol consumption per capita, in litres\", \"type\": \"quantitative\"}}, \"title\": \"Years of education - Alcohol consumption in developing countries\", \"transform\": [{\"on\": \"Schooling\", \"regression\": \"Alcohol\"}]}], \"data\": {\"name\": \"data-7122bf9f3183599d4b1b11c8438ad80b\"}}, {\"layer\": [{\"mark\": {\"type\": \"point\", \"opacity\": 0.2}, \"encoding\": {\"x\": {\"field\": \"Schooling\", \"title\": \"Education, in years\", \"type\": \"quantitative\"}, \"y\": {\"field\": \"Alcohol\", \"title\": \"Alcohol consumption per capita, in litres\", \"type\": \"quantitative\"}}, \"selection\": {\"selector002\": {\"type\": \"interval\", \"bind\": \"scales\", \"encodings\": [\"x\", \"y\"]}}, \"title\": \"Years of education - Alcohol consumption in developed countries\"}, {\"mark\": \"line\", \"encoding\": {\"x\": {\"field\": \"Schooling\", \"title\": \"Education, in years\", \"type\": \"quantitative\"}, \"y\": {\"field\": \"Alcohol\", \"title\": \"Alcohol consumption per capita, in litres\", \"type\": \"quantitative\"}}, \"title\": \"Years of education - Alcohol consumption in developed countries\", \"transform\": [{\"on\": \"Schooling\", \"regression\": \"Alcohol\"}]}], \"data\": {\"name\": \"data-87ccef5c3a86b64ab8c2a76114fbeb82\"}}], \"$schema\": \"https://vega.github.io/schema/vega-lite/v4.17.0.json\", \"datasets\": {\"data-7122bf9f3183599d4b1b11c8438ad80b\": [{\"Year\": 2007.5, \"Alcohol\": 0.014375, \"Schooling\": 8.2125}, {\"Year\": 2007.5, \"Alcohol\": 4.84875, \"Schooling\": 12.1375}, {\"Year\": 2007.0, \"Alcohol\": 0.4066666666666667, \"Schooling\": 12.6}, {\"Year\": 2007.0, \"Alcohol\": 5.740666666666667, \"Schooling\": 7.819999999999999}, {\"Year\": 2007.0, \"Alcohol\": 7.949333333333333, \"Schooling\": 8.506666666666666}, {\"Year\": 2007.0, \"Alcohol\": 7.966666666666667, \"Schooling\": 16.453333333333333}, {\"Year\": 2007.0, \"Alcohol\": 3.7026666666666666, \"Schooling\": 11.726666666666667}, {\"Year\": 2007.0, \"Alcohol\": 0.9919999999999999, \"Schooling\": 11.26}, {\"Year\": 2007.0, \"Alcohol\": 10.271333333333333, \"Schooling\": 12.413333333333332}, {\"Year\": 2007.0, \"Alcohol\": 1.9346666666666665, \"Schooling\": 14.086666666666668}, {\"Year\": 2007.0, \"Alcohol\": 0.01, \"Schooling\": 8.593333333333334}, {\"Year\": 2007.0, \"Alcohol\": 8.206666666666667, \"Schooling\": 14.866666666666667}, {\"Year\": 2007.0, \"Alcohol\": 13.497333333333334, \"Schooling\": 14.693333333333333}, {\"Year\": 2007.0, \"Alcohol\": 6.252666666666667, \"Schooling\": 12.433333333333334}, {\"Year\": 2007.0, \"Alcohol\": 1.0, \"Schooling\": 8.726666666666667}, {\"Year\": 2007.0, \"Alcohol\": 0.2786666666666667, \"Schooling\": 10.073333333333332}, {\"Year\": 2007.0, \"Alcohol\": 3.212, \"Schooling\": 13.973333333333333}, {\"Year\": 2007.0, \"Alcohol\": 4.405333333333333, \"Schooling\": 12.093333333333334}, {\"Year\": 2007.0, \"Alcohol\": 4.67, \"Schooling\": 12.106666666666666}, {\"Year\": 2007.0, \"Alcohol\": 7.213333333333334, \"Schooling\": 14.093333333333334}, {\"Year\": 2007.0, \"Alcohol\": 0.37866666666666665, \"Schooling\": 14.053333333333335}, {\"Year\": 2007.0, \"Alcohol\": 4.241333333333333, \"Schooling\": 5.253333333333333}, {\"Year\": 2007.0, \"Alcohol\": 4.1033333333333335, \"Schooling\": 7.273333333333334}, {\"Year\": 2007.0, \"Alcohol\": 3.448, \"Schooling\": 12.113333333333333}, {\"Year\": 2007.0, \"Alcohol\": 1.486, \"Schooling\": 9.806666666666667}, {\"Year\": 2007.0, \"Alcohol\": 4.141333333333334, \"Schooling\": 8.806666666666667}, {\"Year\": 2007.0, \"Alcohol\": 8.053333333333333, \"Schooling\": 15.846666666666668}, {\"Year\": 2007.0, \"Alcohol\": 1.2313333333333332, \"Schooling\": 6.180000000000001}, {\"Year\": 2007.0, \"Alcohol\": 0.41133333333333333, \"Schooling\": 6.006666666666666}, {\"Year\": 2007.0, \"Alcohol\": 6.978, \"Schooling\": 14.806666666666667}, {\"Year\": 2007.0, \"Alcohol\": 4.1819999999999995, \"Schooling\": 11.3}, {\"Year\": 2007.0, \"Alcohol\": 4.419333333333333, \"Schooling\": 12.139999999999999}, {\"Year\": 2007.0, \"Alcohol\": 0.13466666666666666, \"Schooling\": 9.879999999999999}, {\"Year\": 2007.0, \"Alcohol\": 2.1733333333333333, \"Schooling\": 10.020000000000001}, {\"Year\": 2007.0, \"Alcohol\": 3.9246666666666665, \"Schooling\": 12.746666666666666}, {\"Year\": 2007.0, \"Alcohol\": 4.190666666666667, \"Schooling\": 14.746666666666666}, {\"Year\": 2007.0, \"Alcohol\": 0.764, \"Schooling\": 4.6466666666666665}, {\"Year\": 2007.0, \"Alcohol\": 6.030666666666666, \"Schooling\": 12.713333333333333}, {\"Year\": 2007.0, \"Alcohol\": 3.8073333333333332, \"Schooling\": 12.946666666666665}, {\"Year\": 2007.0, \"Alcohol\": 0.18866666666666668, \"Schooling\": 11.813333333333333}, {\"Year\": 2007.0, \"Alcohol\": 2.6926666666666668, \"Schooling\": 12.620000000000001}, {\"Year\": 2007.0, \"Alcohol\": 7.342, \"Schooling\": 8.266666666666667}, {\"Year\": 2007.0, \"Alcohol\": 0.608, \"Schooling\": 4.92}, {\"Year\": 2007.0, \"Alcohol\": 9.014666666666667, \"Schooling\": 15.9}, {\"Year\": 2007.0, \"Alcohol\": 1.0746666666666667, \"Schooling\": 6.693333333333333}, {\"Year\": 2007.0, \"Alcohol\": 1.4626666666666666, \"Schooling\": 14.106666666666666}, {\"Year\": 2007.0, \"Alcohol\": 9.552666666666665, \"Schooling\": 17.313333333333333}, {\"Year\": 2007.0, \"Alcohol\": 12.404666666666666, \"Schooling\": 15.873333333333333}, {\"Year\": 2007.0, \"Alcohol\": 7.8773333333333335, \"Schooling\": 12.4}, {\"Year\": 2007.0, \"Alcohol\": 2.134666666666667, \"Schooling\": 8.073333333333332}, {\"Year\": 2007.0, \"Alcohol\": 5.623333333333333, \"Schooling\": 12.593333333333334}, {\"Year\": 2007.0, \"Alcohol\": 1.2686666666666668, \"Schooling\": 9.386666666666667}, {\"Year\": 2007.0, \"Alcohol\": 8.803333333333335, \"Schooling\": 15.853333333333332}, {\"Year\": 2007.0, \"Alcohol\": 8.843333333333334, \"Schooling\": 15.166666666666666}, {\"Year\": 2007.0, \"Alcohol\": 2.268666666666667, \"Schooling\": 9.806666666666667}, {\"Year\": 2007.0, \"Alcohol\": 0.16466666666666668, \"Schooling\": 7.066666666666666}, {\"Year\": 2007.0, \"Alcohol\": 2.26, \"Schooling\": 8.226666666666667}, {\"Year\": 2007.0, \"Alcohol\": 7.406000000000001, \"Schooling\": 10.82}, {\"Year\": 2007.0, \"Alcohol\": 5.486, \"Schooling\": 8.406666666666666}, {\"Year\": 2007.0, \"Alcohol\": 3.0420000000000003, \"Schooling\": 10.866666666666667}, {\"Year\": 2007.0, \"Alcohol\": 1.942, \"Schooling\": 9.873333333333333}, {\"Year\": 2007.0, \"Alcohol\": 0.06866666666666667, \"Schooling\": 11.526666666666667}, {\"Year\": 2007.0, \"Alcohol\": 0.016, \"Schooling\": 12.513333333333332}, {\"Year\": 2007.0, \"Alcohol\": 0.13466666666666666, \"Schooling\": 9.893333333333334}, {\"Year\": 2007.0, \"Alcohol\": 2.497333333333333, \"Schooling\": 15.693333333333333}, {\"Year\": 2007.0, \"Alcohol\": 3.624, \"Schooling\": 12.24}, {\"Year\": 2007.0, \"Alcohol\": 0.5173333333333333, \"Schooling\": 13.246666666666666}, {\"Year\": 2007.0, \"Alcohol\": 6.641333333333334, \"Schooling\": 13.96}, {\"Year\": 2007.0, \"Alcohol\": 1.602, \"Schooling\": 9.893333333333334}, {\"Year\": 2007.0, \"Alcohol\": 0.4406666666666667, \"Schooling\": 11.68}, {\"Year\": 2007.0, \"Alcohol\": 0.021333333333333333, \"Schooling\": 13.753333333333334}, {\"Year\": 2007.0, \"Alcohol\": 2.267333333333333, \"Schooling\": 12.293333333333333}, {\"Year\": 2007.0, \"Alcohol\": 3.505333333333333, \"Schooling\": 9.126666666666667}, {\"Year\": 2007.0, \"Alcohol\": 1.7853333333333334, \"Schooling\": 13.773333333333333}, {\"Year\": 2007.0, \"Alcohol\": 2.086666666666667, \"Schooling\": 10.653333333333334}, {\"Year\": 2007.0, \"Alcohol\": 3.2580000000000005, \"Schooling\": 9.866666666666667}, {\"Year\": 2007.0, \"Alcohol\": 0.01, \"Schooling\": 14.886666666666667}, {\"Year\": 2007.0, \"Alcohol\": 0.8200000000000001, \"Schooling\": 9.266666666666667}, {\"Year\": 2007.0, \"Alcohol\": 0.9193333333333332, \"Schooling\": 10.193333333333333}, {\"Year\": 2007.0, \"Alcohol\": 0.4906666666666667, \"Schooling\": 12.526666666666667}, {\"Year\": 2007.0, \"Alcohol\": 1.4073333333333333, \"Schooling\": 11.953333333333335}, {\"Year\": 2007.0, \"Alcohol\": 0.438, \"Schooling\": 6.3}, {\"Year\": 2007.0, \"Alcohol\": 0.013333333333333334, \"Schooling\": 7.239999999999999}, {\"Year\": 2007.0, \"Alcohol\": 2.9066666666666667, \"Schooling\": 13.42}, {\"Year\": 2007.0, \"Alcohol\": 5.114, \"Schooling\": 12.26}, {\"Year\": 2007.0, \"Alcohol\": 2.1453333333333333, \"Schooling\": 10.313333333333333}, {\"Year\": 2007.0, \"Alcohol\": 2.354, \"Schooling\": 12.526666666666667}, {\"Year\": 2007.142857142857, \"Alcohol\": 2.584285714285714, \"Schooling\": 10.257142857142856}, {\"Year\": 2007.0, \"Alcohol\": 0.5186666666666667, \"Schooling\": 10.166666666666666}, {\"Year\": 2007.0, \"Alcohol\": 1.2659999999999998, \"Schooling\": 7.913333333333333}, {\"Year\": 2007.0, \"Alcohol\": 0.3513333333333334, \"Schooling\": 8.273333333333333}, {\"Year\": 2007.0, \"Alcohol\": 4.710666666666667, \"Schooling\": 11.54}, {\"Year\": 2007.0, \"Alcohol\": 0.19, \"Schooling\": 10.313333333333333}, {\"Year\": 2007.0, \"Alcohol\": 3.5966666666666667, \"Schooling\": 11.073333333333332}, {\"Year\": 2007.0, \"Alcohol\": 0.09133333333333334, \"Schooling\": 3.9266666666666667}, {\"Year\": 2007.0, \"Alcohol\": 8.646666666666667, \"Schooling\": 8.933333333333334}, {\"Year\": 2007.0, \"Alcohol\": 0.5346666666666666, \"Schooling\": 12.126666666666667}, {\"Year\": 2007.0, \"Alcohol\": 0.026000000000000002, \"Schooling\": 6.626666666666667}, {\"Year\": 2007.0, \"Alcohol\": 6.212000000000001, \"Schooling\": 12.76}, {\"Year\": 2007.0, \"Alcohol\": 0.5806666666666668, \"Schooling\": 8.446666666666667}, {\"Year\": 2007.0, \"Alcohol\": 5.527333333333333, \"Schooling\": 12.16}, {\"Year\": 2007.0, \"Alcohol\": 4.278666666666666, \"Schooling\": 13.3}, {\"Year\": 2007.0, \"Alcohol\": 4.510666666666666, \"Schooling\": 11.533333333333333}, {\"Year\": 2007.0, \"Alcohol\": 1.0813333333333333, \"Schooling\": 12.813333333333333}, {\"Year\": 2007.0, \"Alcohol\": 11.127999999999998, \"Schooling\": 13.66}, {\"Year\": 2007.0, \"Alcohol\": 5.635999999999999, \"Schooling\": 9.186666666666667}, {\"Year\": 2007.0, \"Alcohol\": 11.511333333333333, \"Schooling\": 12.68}, {\"Year\": 2007.0, \"Alcohol\": 6.11, \"Schooling\": 13.173333333333334}, {\"Year\": 2007.0, \"Alcohol\": 2.704, \"Schooling\": 12.626666666666667}, {\"Year\": 2007.0, \"Alcohol\": 4.191333333333334, \"Schooling\": 10.193333333333333}, {\"Year\": 2007.0, \"Alcohol\": 0.07466666666666667, \"Schooling\": 13.1}, {\"Year\": 2007.0, \"Alcohol\": 0.30933333333333335, \"Schooling\": 6.966666666666667}, {\"Year\": 2007.0, \"Alcohol\": 8.682666666666668, \"Schooling\": 13.473333333333333}, {\"Year\": 2007.0, \"Alcohol\": 6.201333333333333, \"Schooling\": 12.826666666666666}, {\"Year\": 2007.0, \"Alcohol\": 3.1546666666666665, \"Schooling\": 8.146666666666667}, {\"Year\": 2007.0, \"Alcohol\": 0.8006666666666666, \"Schooling\": 8.573333333333332}, {\"Year\": 2007.0, \"Alcohol\": 7.588666666666667, \"Schooling\": 12.886666666666667}, {\"Year\": 2007.0, \"Alcohol\": 2.096, \"Schooling\": 13.166666666666666}, {\"Year\": 2007.0, \"Alcohol\": 1.458, \"Schooling\": 6.319999999999999}, {\"Year\": 2007.0, \"Alcohol\": 4.984, \"Schooling\": 11.766666666666667}, {\"Year\": 2007.0, \"Alcohol\": 4.463333333333334, \"Schooling\": 10.28}, {\"Year\": 2007.0, \"Alcohol\": 0.8046666666666666, \"Schooling\": 11.113333333333333}, {\"Year\": 2007.0, \"Alcohol\": 0.33066666666666666, \"Schooling\": 10.639999999999999}, {\"Year\": 2007.0, \"Alcohol\": 6.131333333333333, \"Schooling\": 12.479999999999999}, {\"Year\": 2007.0, \"Alcohol\": 1.8586666666666667, \"Schooling\": 12.346666666666666}, {\"Year\": 2007.0, \"Alcohol\": 0.23533333333333334, \"Schooling\": 10.58}, {\"Year\": 2007.0, \"Alcohol\": 0.9473333333333334, \"Schooling\": 10.56}, {\"Year\": 2007.0, \"Alcohol\": 1.1673333333333333, \"Schooling\": 14.213333333333333}, {\"Year\": 2007.0, \"Alcohol\": 6.044666666666667, \"Schooling\": 12.306666666666667}, {\"Year\": 2007.0, \"Alcohol\": 1.3106666666666666, \"Schooling\": 14.020000000000001}, {\"Year\": 2007.0, \"Alcohol\": 1.4213333333333333, \"Schooling\": 12.553333333333335}, {\"Year\": 2007.0, \"Alcohol\": 2.6546666666666665, \"Schooling\": 9.766666666666667}, {\"Year\": 2007.0, \"Alcohol\": 8.050666666666666, \"Schooling\": 10.633333333333333}, {\"Year\": 2007.0, \"Alcohol\": 7.3693333333333335, \"Schooling\": 14.56}, {\"Year\": 2007.0, \"Alcohol\": 1.75, \"Schooling\": 12.780000000000001}, {\"Year\": 2007.0, \"Alcohol\": 6.172666666666667, \"Schooling\": 15.213333333333333}, {\"Year\": 2007.0, \"Alcohol\": 1.6086666666666667, \"Schooling\": 11.613333333333333}, {\"Year\": 2007.0, \"Alcohol\": 0.8066666666666666, \"Schooling\": 10.553333333333335}, {\"Year\": 2007.0, \"Alcohol\": 7.42, \"Schooling\": 12.686666666666667}, {\"Year\": 2007.0, \"Alcohol\": 3.0873333333333335, \"Schooling\": 11.44}, {\"Year\": 2007.0, \"Alcohol\": 0.04733333333333333, \"Schooling\": 8.473333333333333}, {\"Year\": 2007.0, \"Alcohol\": 2.2393333333333336, \"Schooling\": 11.126666666666667}, {\"Year\": 2007.0, \"Alcohol\": 4.482, \"Schooling\": 9.793333333333333}], \"data-87ccef5c3a86b64ab8c2a76114fbeb82\": [{\"Year\": 2007.0, \"Alcohol\": 10.155333333333335, \"Schooling\": 20.013333333333332}, {\"Year\": 2007.0, \"Alcohol\": 12.235999999999999, \"Schooling\": 15.353333333333333}, {\"Year\": 2007.0, \"Alcohol\": 11.042666666666666, \"Schooling\": 16.8}, {\"Year\": 2007.0, \"Alcohol\": 10.865333333333332, \"Schooling\": 13.639999999999999}, {\"Year\": 2007.0, \"Alcohol\": 12.448, \"Schooling\": 13.793333333333333}, {\"Year\": 2007.0, \"Alcohol\": 10.260666666666667, \"Schooling\": 13.466666666666667}, {\"Year\": 2007.0, \"Alcohol\": 10.708, \"Schooling\": 17.06}, {\"Year\": 2007.0, \"Alcohol\": 11.628666666666668, \"Schooling\": 16.566666666666666}, {\"Year\": 2007.0, \"Alcohol\": 11.427333333333333, \"Schooling\": 15.086666666666668}, {\"Year\": 2007.0, \"Alcohol\": 7.465999999999999, \"Schooling\": 18.1}, {\"Year\": 2007.0, \"Alcohol\": 12.654, \"Schooling\": 17.59333333333333}, {\"Year\": 2007.0, \"Alcohol\": 8.266666666666667, \"Schooling\": 15.906666666666666}, {\"Year\": 2007.0, \"Alcohol\": 7.040666666666667, \"Schooling\": 14.953333333333335}, {\"Year\": 2007.0, \"Alcohol\": 8.864, \"Schooling\": 15.54}, {\"Year\": 2007.0, \"Alcohol\": 12.632666666666667, \"Schooling\": 16.073333333333334}, {\"Year\": 2007.0, \"Alcohol\": 11.921999999999999, \"Schooling\": 13.620000000000001}, {\"Year\": 2007.0, \"Alcohol\": 7.13, \"Schooling\": 14.286666666666667}, {\"Year\": 2007.0, \"Alcohol\": 8.846666666666666, \"Schooling\": 16.986666666666668}, {\"Year\": 2007.5, \"Alcohol\": 9.16625, \"Schooling\": 18.86875}, {\"Year\": 2007.5, \"Alcohol\": 6.234375, \"Schooling\": 17.46875}, {\"Year\": 2007.0, \"Alcohol\": 9.998666666666667, \"Schooling\": 15.173333333333334}, {\"Year\": 2007.0, \"Alcohol\": 12.211333333333334, \"Schooling\": 15.893333333333334}, {\"Year\": 2007.0, \"Alcohol\": 8.968666666666667, \"Schooling\": 13.873333333333333}, {\"Year\": 2007.5, \"Alcohol\": 1.7625, \"Schooling\": 13.98125}, {\"Year\": 2007.0, \"Alcohol\": 10.473333333333333, \"Schooling\": 14.306666666666667}, {\"Year\": 2007.0, \"Alcohol\": 10.754666666666667, \"Schooling\": 16.42}, {\"Year\": 2007.0, \"Alcohol\": 10.024, \"Schooling\": 16.266666666666666}, {\"Year\": 2007.0, \"Alcohol\": 6.926666666666667, \"Schooling\": 15.866666666666667}, {\"Year\": 2007.0, \"Alcohol\": 10.338, \"Schooling\": 15.353333333333333}], \"data-8e37a015331e29d39ed7896f99f3d3a1\": [{\"Year\": 2007.5, \"Alcohol\": 0.014375, \"Schooling\": 8.2125}, {\"Year\": 2007.5, \"Alcohol\": 4.84875, \"Schooling\": 12.1375}, {\"Year\": 2007.0, \"Alcohol\": 0.4066666666666667, \"Schooling\": 12.6}, {\"Year\": 2007.0, \"Alcohol\": 5.740666666666667, \"Schooling\": 7.819999999999999}, {\"Year\": 2007.0, \"Alcohol\": 7.949333333333333, \"Schooling\": 8.506666666666666}, {\"Year\": 2007.0, \"Alcohol\": 7.966666666666667, \"Schooling\": 16.453333333333333}, {\"Year\": 2007.0, \"Alcohol\": 3.7026666666666666, \"Schooling\": 11.726666666666667}, {\"Year\": 2007.0, \"Alcohol\": 10.155333333333335, \"Schooling\": 20.013333333333332}, {\"Year\": 2007.0, \"Alcohol\": 12.235999999999999, \"Schooling\": 15.353333333333333}, {\"Year\": 2007.0, \"Alcohol\": 0.9919999999999999, \"Schooling\": 11.26}, {\"Year\": 2007.0, \"Alcohol\": 10.271333333333333, \"Schooling\": 12.413333333333332}, {\"Year\": 2007.0, \"Alcohol\": 1.9346666666666665, \"Schooling\": 14.086666666666668}, {\"Year\": 2007.0, \"Alcohol\": 0.01, \"Schooling\": 8.593333333333334}, {\"Year\": 2007.0, \"Alcohol\": 8.206666666666667, \"Schooling\": 14.866666666666667}, {\"Year\": 2007.0, \"Alcohol\": 13.497333333333334, \"Schooling\": 14.693333333333333}, {\"Year\": 2007.0, \"Alcohol\": 11.042666666666666, \"Schooling\": 16.8}, {\"Year\": 2007.0, \"Alcohol\": 6.252666666666667, \"Schooling\": 12.433333333333334}, {\"Year\": 2007.0, \"Alcohol\": 1.0, \"Schooling\": 8.726666666666667}, {\"Year\": 2007.0, \"Alcohol\": 0.2786666666666667, \"Schooling\": 10.073333333333332}, {\"Year\": 2007.0, \"Alcohol\": 3.212, \"Schooling\": 13.973333333333333}, {\"Year\": 2007.0, \"Alcohol\": 4.405333333333333, \"Schooling\": 12.093333333333334}, {\"Year\": 2007.0, \"Alcohol\": 4.67, \"Schooling\": 12.106666666666666}, {\"Year\": 2007.0, \"Alcohol\": 7.213333333333334, \"Schooling\": 14.093333333333334}, {\"Year\": 2007.0, \"Alcohol\": 0.37866666666666665, \"Schooling\": 14.053333333333335}, {\"Year\": 2007.0, \"Alcohol\": 10.865333333333332, \"Schooling\": 13.639999999999999}, {\"Year\": 2007.0, \"Alcohol\": 4.241333333333333, \"Schooling\": 5.253333333333333}, {\"Year\": 2007.0, \"Alcohol\": 4.1033333333333335, \"Schooling\": 7.273333333333334}, {\"Year\": 2007.0, \"Alcohol\": 3.448, \"Schooling\": 12.113333333333333}, {\"Year\": 2007.0, \"Alcohol\": 1.486, \"Schooling\": 9.806666666666667}, {\"Year\": 2007.0, \"Alcohol\": 4.141333333333334, \"Schooling\": 8.806666666666667}, {\"Year\": 2007.0, \"Alcohol\": 8.053333333333333, \"Schooling\": 15.846666666666668}, {\"Year\": 2007.0, \"Alcohol\": 1.2313333333333332, \"Schooling\": 6.180000000000001}, {\"Year\": 2007.0, \"Alcohol\": 0.41133333333333333, \"Schooling\": 6.006666666666666}, {\"Year\": 2007.0, \"Alcohol\": 6.978, \"Schooling\": 14.806666666666667}, {\"Year\": 2007.0, \"Alcohol\": 4.1819999999999995, \"Schooling\": 11.3}, {\"Year\": 2007.0, \"Alcohol\": 4.419333333333333, \"Schooling\": 12.139999999999999}, {\"Year\": 2007.0, \"Alcohol\": 0.13466666666666666, \"Schooling\": 9.879999999999999}, {\"Year\": 2007.0, \"Alcohol\": 2.1733333333333333, \"Schooling\": 10.020000000000001}, {\"Year\": 2007.0, \"Alcohol\": 3.9246666666666665, \"Schooling\": 12.746666666666666}, {\"Year\": 2007.0, \"Alcohol\": 12.448, \"Schooling\": 13.793333333333333}, {\"Year\": 2007.0, \"Alcohol\": 4.190666666666667, \"Schooling\": 14.746666666666666}, {\"Year\": 2007.0, \"Alcohol\": 10.260666666666667, \"Schooling\": 13.466666666666667}, {\"Year\": 2007.0, \"Alcohol\": 10.708, \"Schooling\": 17.06}, {\"Year\": 2007.0, \"Alcohol\": 0.764, \"Schooling\": 4.6466666666666665}, {\"Year\": 2007.0, \"Alcohol\": 6.030666666666666, \"Schooling\": 12.713333333333333}, {\"Year\": 2007.0, \"Alcohol\": 3.8073333333333332, \"Schooling\": 12.946666666666665}, {\"Year\": 2007.0, \"Alcohol\": 0.18866666666666668, \"Schooling\": 11.813333333333333}, {\"Year\": 2007.0, \"Alcohol\": 2.6926666666666668, \"Schooling\": 12.620000000000001}, {\"Year\": 2007.0, \"Alcohol\": 7.342, \"Schooling\": 8.266666666666667}, {\"Year\": 2007.0, \"Alcohol\": 0.608, \"Schooling\": 4.92}, {\"Year\": 2007.0, \"Alcohol\": 9.014666666666667, \"Schooling\": 15.9}, {\"Year\": 2007.0, \"Alcohol\": 1.0746666666666667, \"Schooling\": 6.693333333333333}, {\"Year\": 2007.0, \"Alcohol\": 1.4626666666666666, \"Schooling\": 14.106666666666666}, {\"Year\": 2007.0, \"Alcohol\": 9.552666666666665, \"Schooling\": 17.313333333333333}, {\"Year\": 2007.0, \"Alcohol\": 12.404666666666666, \"Schooling\": 15.873333333333333}, {\"Year\": 2007.0, \"Alcohol\": 7.8773333333333335, \"Schooling\": 12.4}, {\"Year\": 2007.0, \"Alcohol\": 2.134666666666667, \"Schooling\": 8.073333333333332}, {\"Year\": 2007.0, \"Alcohol\": 5.623333333333333, \"Schooling\": 12.593333333333334}, {\"Year\": 2007.0, \"Alcohol\": 11.628666666666668, \"Schooling\": 16.566666666666666}, {\"Year\": 2007.0, \"Alcohol\": 1.2686666666666668, \"Schooling\": 9.386666666666667}, {\"Year\": 2007.0, \"Alcohol\": 8.803333333333335, \"Schooling\": 15.853333333333332}, {\"Year\": 2007.0, \"Alcohol\": 8.843333333333334, \"Schooling\": 15.166666666666666}, {\"Year\": 2007.0, \"Alcohol\": 2.268666666666667, \"Schooling\": 9.806666666666667}, {\"Year\": 2007.0, \"Alcohol\": 0.16466666666666668, \"Schooling\": 7.066666666666666}, {\"Year\": 2007.0, \"Alcohol\": 2.26, \"Schooling\": 8.226666666666667}, {\"Year\": 2007.0, \"Alcohol\": 7.406000000000001, \"Schooling\": 10.82}, {\"Year\": 2007.0, \"Alcohol\": 5.486, \"Schooling\": 8.406666666666666}, {\"Year\": 2007.0, \"Alcohol\": 3.0420000000000003, \"Schooling\": 10.866666666666667}, {\"Year\": 2007.0, \"Alcohol\": 11.427333333333333, \"Schooling\": 15.086666666666668}, {\"Year\": 2007.0, \"Alcohol\": 7.465999999999999, \"Schooling\": 18.1}, {\"Year\": 2007.0, \"Alcohol\": 1.942, \"Schooling\": 9.873333333333333}, {\"Year\": 2007.0, \"Alcohol\": 0.06866666666666667, \"Schooling\": 11.526666666666667}, {\"Year\": 2007.0, \"Alcohol\": 0.016, \"Schooling\": 12.513333333333332}, {\"Year\": 2007.0, \"Alcohol\": 0.13466666666666666, \"Schooling\": 9.893333333333334}, {\"Year\": 2007.0, \"Alcohol\": 12.654, \"Schooling\": 17.59333333333333}, {\"Year\": 2007.0, \"Alcohol\": 2.497333333333333, \"Schooling\": 15.693333333333333}, {\"Year\": 2007.0, \"Alcohol\": 8.266666666666667, \"Schooling\": 15.906666666666666}, {\"Year\": 2007.0, \"Alcohol\": 3.624, \"Schooling\": 12.24}, {\"Year\": 2007.0, \"Alcohol\": 7.040666666666667, \"Schooling\": 14.953333333333335}, {\"Year\": 2007.0, \"Alcohol\": 0.5173333333333333, \"Schooling\": 13.246666666666666}, {\"Year\": 2007.0, \"Alcohol\": 6.641333333333334, \"Schooling\": 13.96}, {\"Year\": 2007.0, \"Alcohol\": 1.602, \"Schooling\": 9.893333333333334}, {\"Year\": 2007.0, \"Alcohol\": 0.4406666666666667, \"Schooling\": 11.68}, {\"Year\": 2007.0, \"Alcohol\": 0.021333333333333333, \"Schooling\": 13.753333333333334}, {\"Year\": 2007.0, \"Alcohol\": 2.267333333333333, \"Schooling\": 12.293333333333333}, {\"Year\": 2007.0, \"Alcohol\": 3.505333333333333, \"Schooling\": 9.126666666666667}, {\"Year\": 2007.0, \"Alcohol\": 8.864, \"Schooling\": 15.54}, {\"Year\": 2007.0, \"Alcohol\": 1.7853333333333334, \"Schooling\": 13.773333333333333}, {\"Year\": 2007.0, \"Alcohol\": 2.086666666666667, \"Schooling\": 10.653333333333334}, {\"Year\": 2007.0, \"Alcohol\": 3.2580000000000005, \"Schooling\": 9.866666666666667}, {\"Year\": 2007.0, \"Alcohol\": 0.01, \"Schooling\": 14.886666666666667}, {\"Year\": 2007.0, \"Alcohol\": 12.632666666666667, \"Schooling\": 16.073333333333334}, {\"Year\": 2007.0, \"Alcohol\": 11.921999999999999, \"Schooling\": 13.620000000000001}, {\"Year\": 2007.0, \"Alcohol\": 0.8200000000000001, \"Schooling\": 9.266666666666667}, {\"Year\": 2007.0, \"Alcohol\": 0.9193333333333332, \"Schooling\": 10.193333333333333}, {\"Year\": 2007.0, \"Alcohol\": 0.4906666666666667, \"Schooling\": 12.526666666666667}, {\"Year\": 2007.0, \"Alcohol\": 1.4073333333333333, \"Schooling\": 11.953333333333335}, {\"Year\": 2007.0, \"Alcohol\": 0.438, \"Schooling\": 6.3}, {\"Year\": 2007.0, \"Alcohol\": 7.13, \"Schooling\": 14.286666666666667}, {\"Year\": 2007.0, \"Alcohol\": 0.013333333333333334, \"Schooling\": 7.239999999999999}, {\"Year\": 2007.0, \"Alcohol\": 2.9066666666666667, \"Schooling\": 13.42}, {\"Year\": 2007.0, \"Alcohol\": 5.114, \"Schooling\": 12.26}, {\"Year\": 2007.0, \"Alcohol\": 2.1453333333333333, \"Schooling\": 10.313333333333333}, {\"Year\": 2007.0, \"Alcohol\": 2.354, \"Schooling\": 12.526666666666667}, {\"Year\": 2007.142857142857, \"Alcohol\": 2.584285714285714, \"Schooling\": 10.257142857142856}, {\"Year\": 2007.0, \"Alcohol\": 0.5186666666666667, \"Schooling\": 10.166666666666666}, {\"Year\": 2007.0, \"Alcohol\": 1.2659999999999998, \"Schooling\": 7.913333333333333}, {\"Year\": 2007.0, \"Alcohol\": 0.3513333333333334, \"Schooling\": 8.273333333333333}, {\"Year\": 2007.0, \"Alcohol\": 4.710666666666667, \"Schooling\": 11.54}, {\"Year\": 2007.0, \"Alcohol\": 0.19, \"Schooling\": 10.313333333333333}, {\"Year\": 2007.0, \"Alcohol\": 8.846666666666666, \"Schooling\": 16.986666666666668}, {\"Year\": 2007.5, \"Alcohol\": 9.16625, \"Schooling\": 18.86875}, {\"Year\": 2007.0, \"Alcohol\": 3.5966666666666667, \"Schooling\": 11.073333333333332}, {\"Year\": 2007.0, \"Alcohol\": 0.09133333333333334, \"Schooling\": 3.9266666666666667}, {\"Year\": 2007.0, \"Alcohol\": 8.646666666666667, \"Schooling\": 8.933333333333334}, {\"Year\": 2007.5, \"Alcohol\": 6.234375, \"Schooling\": 17.46875}, {\"Year\": 2007.0, \"Alcohol\": 0.5346666666666666, \"Schooling\": 12.126666666666667}, {\"Year\": 2007.0, \"Alcohol\": 0.026000000000000002, \"Schooling\": 6.626666666666667}, {\"Year\": 2007.0, \"Alcohol\": 6.212000000000001, \"Schooling\": 12.76}, {\"Year\": 2007.0, \"Alcohol\": 0.5806666666666668, \"Schooling\": 8.446666666666667}, {\"Year\": 2007.0, \"Alcohol\": 5.527333333333333, \"Schooling\": 12.16}, {\"Year\": 2007.0, \"Alcohol\": 4.278666666666666, \"Schooling\": 13.3}, {\"Year\": 2007.0, \"Alcohol\": 4.510666666666666, \"Schooling\": 11.533333333333333}, {\"Year\": 2007.0, \"Alcohol\": 9.998666666666667, \"Schooling\": 15.173333333333334}, {\"Year\": 2007.0, \"Alcohol\": 12.211333333333334, \"Schooling\": 15.893333333333334}, {\"Year\": 2007.0, \"Alcohol\": 1.0813333333333333, \"Schooling\": 12.813333333333333}, {\"Year\": 2007.0, \"Alcohol\": 8.968666666666667, \"Schooling\": 13.873333333333333}, {\"Year\": 2007.0, \"Alcohol\": 11.127999999999998, \"Schooling\": 13.66}, {\"Year\": 2007.0, \"Alcohol\": 5.635999999999999, \"Schooling\": 9.186666666666667}, {\"Year\": 2007.0, \"Alcohol\": 11.511333333333333, \"Schooling\": 12.68}, {\"Year\": 2007.0, \"Alcohol\": 6.11, \"Schooling\": 13.173333333333334}, {\"Year\": 2007.0, \"Alcohol\": 2.704, \"Schooling\": 12.626666666666667}, {\"Year\": 2007.0, \"Alcohol\": 4.191333333333334, \"Schooling\": 10.193333333333333}, {\"Year\": 2007.0, \"Alcohol\": 0.07466666666666667, \"Schooling\": 13.1}, {\"Year\": 2007.0, \"Alcohol\": 0.30933333333333335, \"Schooling\": 6.966666666666667}, {\"Year\": 2007.0, \"Alcohol\": 8.682666666666668, \"Schooling\": 13.473333333333333}, {\"Year\": 2007.0, \"Alcohol\": 6.201333333333333, \"Schooling\": 12.826666666666666}, {\"Year\": 2007.0, \"Alcohol\": 3.1546666666666665, \"Schooling\": 8.146666666666667}, {\"Year\": 2007.5, \"Alcohol\": 1.7625, \"Schooling\": 13.98125}, {\"Year\": 2007.0, \"Alcohol\": 10.473333333333333, \"Schooling\": 14.306666666666667}, {\"Year\": 2007.0, \"Alcohol\": 10.754666666666667, \"Schooling\": 16.42}, {\"Year\": 2007.0, \"Alcohol\": 0.8006666666666666, \"Schooling\": 8.573333333333332}, {\"Year\": 2007.0, \"Alcohol\": 7.588666666666667, \"Schooling\": 12.886666666666667}, {\"Year\": 2007.0, \"Alcohol\": 10.024, \"Schooling\": 16.266666666666666}, {\"Year\": 2007.0, \"Alcohol\": 2.096, \"Schooling\": 13.166666666666666}, {\"Year\": 2007.0, \"Alcohol\": 1.458, \"Schooling\": 6.319999999999999}, {\"Year\": 2007.0, \"Alcohol\": 4.984, \"Schooling\": 11.766666666666667}, {\"Year\": 2007.0, \"Alcohol\": 4.463333333333334, \"Schooling\": 10.28}, {\"Year\": 2007.0, \"Alcohol\": 6.926666666666667, \"Schooling\": 15.866666666666667}, {\"Year\": 2007.0, \"Alcohol\": 10.338, \"Schooling\": 15.353333333333333}, {\"Year\": 2007.0, \"Alcohol\": 0.8046666666666666, \"Schooling\": 11.113333333333333}, {\"Year\": 2007.0, \"Alcohol\": 0.33066666666666666, \"Schooling\": 10.639999999999999}, {\"Year\": 2007.0, \"Alcohol\": 6.131333333333333, \"Schooling\": 12.479999999999999}, {\"Year\": 2007.0, \"Alcohol\": 1.8586666666666667, \"Schooling\": 12.346666666666666}, {\"Year\": 2007.0, \"Alcohol\": 0.23533333333333334, \"Schooling\": 10.58}, {\"Year\": 2007.0, \"Alcohol\": 0.9473333333333334, \"Schooling\": 10.56}, {\"Year\": 2007.0, \"Alcohol\": 1.1673333333333333, \"Schooling\": 14.213333333333333}, {\"Year\": 2007.0, \"Alcohol\": 6.044666666666667, \"Schooling\": 12.306666666666667}, {\"Year\": 2007.0, \"Alcohol\": 1.3106666666666666, \"Schooling\": 14.020000000000001}, {\"Year\": 2007.0, \"Alcohol\": 1.4213333333333333, \"Schooling\": 12.553333333333335}, {\"Year\": 2007.0, \"Alcohol\": 2.6546666666666665, \"Schooling\": 9.766666666666667}, {\"Year\": 2007.0, \"Alcohol\": 8.050666666666666, \"Schooling\": 10.633333333333333}, {\"Year\": 2007.0, \"Alcohol\": 7.3693333333333335, \"Schooling\": 14.56}, {\"Year\": 2007.0, \"Alcohol\": 1.75, \"Schooling\": 12.780000000000001}, {\"Year\": 2007.0, \"Alcohol\": 6.172666666666667, \"Schooling\": 15.213333333333333}, {\"Year\": 2007.0, \"Alcohol\": 1.6086666666666667, \"Schooling\": 11.613333333333333}, {\"Year\": 2007.0, \"Alcohol\": 0.8066666666666666, \"Schooling\": 10.553333333333335}, {\"Year\": 2007.0, \"Alcohol\": 7.42, \"Schooling\": 12.686666666666667}, {\"Year\": 2007.0, \"Alcohol\": 3.0873333333333335, \"Schooling\": 11.44}, {\"Year\": 2007.0, \"Alcohol\": 0.04733333333333333, \"Schooling\": 8.473333333333333}, {\"Year\": 2007.0, \"Alcohol\": 2.2393333333333336, \"Schooling\": 11.126666666666667}, {\"Year\": 2007.0, \"Alcohol\": 4.482, \"Schooling\": 9.793333333333333}]}}, {\"mode\": \"vega-lite\"});\n",
              "</script>"
            ],
            "text/plain": [
              "alt.HConcatChart(...)"
            ]
          },
          "metadata": {},
          "execution_count": 17
        }
      ]
    },
    {
      "cell_type": "markdown",
      "source": [
        "## SQ 2: Changes over the years, per country"
      ],
      "metadata": {
        "id": "Y-AoXN0cjTsP"
      }
    },
    {
      "cell_type": "code",
      "source": [
        "hfdev['Ratio'] = hfdev['Alcohol'] / hfdev['Schooling']"
      ],
      "metadata": {
        "id": "gdTtA2BzxtJ_"
      },
      "execution_count": 18,
      "outputs": []
    },
    {
      "cell_type": "markdown",
      "source": [
        "There are a few infinite values, likely because there has been an attempt to divide by 0, but this does not affect the charts. However, it does mess with the descriptive statistics, as the mean and max values both show as infinite. Unfortunately, I have not been able to fix this."
      ],
      "metadata": {
        "id": "oiShRM51ijXl"
      }
    },
    {
      "cell_type": "code",
      "source": [
        "def select_country(Country, hfdev):\n",
        "  return hfdev.loc[hfdev['Country'] == Country]\n",
        "\n",
        "def chart_country(Country, hfdev):\n",
        "  chart_data = select_country(Country, hfdev)\n",
        "  \n",
        "  chart = alt.Chart(chart_data).mark_line().encode(\n",
        "      x = alt.X('Year:N', title = \"Year\"),\n",
        "      y = alt.Y('Ratio:Q', title = \"Ratio Alcohol consumption - Schooling\"),\n",
        "      ).interactive()\n",
        "\n",
        "  display(chart)"
      ],
      "metadata": {
        "id": "7rkjZidMxIY1"
      },
      "execution_count": 19,
      "outputs": []
    },
    {
      "cell_type": "code",
      "source": [
        "input = widgets.Dropdown(options = sorted(hfdev.Country.unique()))\n",
        "\n",
        "iout = widgets.interactive_output(chart_country, {'Country': input, 'hfdev': widgets.fixed(hfdev)})\n",
        "\n",
        "widgets.HBox([iout, input])"
      ],
      "metadata": {
        "id": "kqvyb5M8y8Tq",
        "colab": {
          "base_uri": "https://localhost:8080/",
          "height": 382,
          "referenced_widgets": [
            "acbb2629866641378b73733ad51dd0a9",
            "8cfbf30aa08e4488af764ec7de1a4a20",
            "94398f98aa334e8b95c53035689a3c79",
            "b719b606b2d74380ba671eafd707939e",
            "e67439a724624f27834c4d4bc0ccdb8c",
            "88e182d3db56408e84c75700180d2b4b",
            "f191b67728034ec1a6e9bddecce4a0c7"
          ]
        },
        "outputId": "3ef5d607-8270-442b-b0a9-77a331aa09eb"
      },
      "execution_count": 20,
      "outputs": [
        {
          "output_type": "display_data",
          "data": {
            "text/plain": [
              "HBox(children=(Output(), Dropdown(options=('Afghanistan', 'Albania', 'Algeria', 'Angola', 'Antigua and Barbuda…"
            ],
            "application/vnd.jupyter.widget-view+json": {
              "version_major": 2,
              "version_minor": 0,
              "model_id": "acbb2629866641378b73733ad51dd0a9"
            }
          },
          "metadata": {}
        }
      ]
    },
    {
      "cell_type": "markdown",
      "source": [
        "# Conclusion"
      ],
      "metadata": {
        "id": "40VE8T85jOev"
      }
    },
    {
      "cell_type": "markdown",
      "source": [
        "The hypothesis that there is a negative correlation between education and alcohol consumption is **false**, as all charts show a positive correlation instead.\n",
        "\n",
        "Furthermore, the individual country charts show that, although there are some changes in the ratio between years of schooling and alcohol consumption, the values are often close enough that the average is valid. Therefore, the answer to the question of whether there is a correlation between education and alcohol consumption is **yes** - there exists a positive correlation. However, this does not imply causation, as there are other factors that may influence one or both variables."
      ],
      "metadata": {
        "id": "ktttOsWmj8Bp"
      }
    }
  ]
}